{
 "metadata": {
  "language_info": {
   "codemirror_mode": {
    "name": "ipython",
    "version": 3
   },
   "file_extension": ".py",
   "mimetype": "text/x-python",
   "name": "python",
   "nbconvert_exporter": "python",
   "pygments_lexer": "ipython3",
   "version": "3.7.4-final"
  },
  "orig_nbformat": 2,
  "kernelspec": {
   "name": "python3",
   "display_name": "Python 3",
   "language": "python"
  }
 },
 "nbformat": 4,
 "nbformat_minor": 2,
 "cells": [
  {
   "cell_type": "code",
   "execution_count": 22,
   "metadata": {},
   "outputs": [],
   "source": [
    "import pandas as pd\n",
    "import matplotlib.pyplot  as plt\n",
    "import seaborn as sns\n",
    "import numpy as np\n",
    "from scipy.stats import norm\n",
    "from sklearn.preprocessing import StandardScaler\n",
    "from scipy import stats\n",
    "import warnings\n",
    "warnings.filterwarnings('ignore')\n",
    "%matplotlib inline"
   ]
  },
  {
   "cell_type": "code",
   "execution_count": 23,
   "metadata": {},
   "outputs": [],
   "source": [
    "df_test = pd.read_csv('test.csv')"
   ]
  },
  {
   "cell_type": "code",
   "execution_count": 24,
   "metadata": {},
   "outputs": [
    {
     "output_type": "execute_result",
     "data": {
      "text/plain": [
       "                 Id   MSSubClass MSZoning  LotFrontage       LotArea Street  \\\n",
       "count   1459.000000  1459.000000     1455  1232.000000   1459.000000   1459   \n",
       "unique          NaN          NaN        5          NaN           NaN      2   \n",
       "top             NaN          NaN       RL          NaN           NaN   Pave   \n",
       "freq            NaN          NaN     1114          NaN           NaN   1453   \n",
       "mean    2190.000000    57.378341      NaN    68.580357   9819.161069    NaN   \n",
       "std      421.321334    42.746880      NaN    22.376841   4955.517327    NaN   \n",
       "min     1461.000000    20.000000      NaN    21.000000   1470.000000    NaN   \n",
       "25%     1825.500000    20.000000      NaN    58.000000   7391.000000    NaN   \n",
       "50%     2190.000000    50.000000      NaN    67.000000   9399.000000    NaN   \n",
       "75%     2554.500000    70.000000      NaN    80.000000  11517.500000    NaN   \n",
       "max     2919.000000   190.000000      NaN   200.000000  56600.000000    NaN   \n",
       "\n",
       "       Alley LotShape LandContour Utilities  ...  ScreenPorch     PoolArea  \\\n",
       "count    107     1459        1459      1457  ...  1459.000000  1459.000000   \n",
       "unique     2        4           4         1  ...          NaN          NaN   \n",
       "top     Grvl      Reg         Lvl    AllPub  ...          NaN          NaN   \n",
       "freq      70      934        1311      1457  ...          NaN          NaN   \n",
       "mean     NaN      NaN         NaN       NaN  ...    17.064428     1.744345   \n",
       "std      NaN      NaN         NaN       NaN  ...    56.609763    30.491646   \n",
       "min      NaN      NaN         NaN       NaN  ...     0.000000     0.000000   \n",
       "25%      NaN      NaN         NaN       NaN  ...     0.000000     0.000000   \n",
       "50%      NaN      NaN         NaN       NaN  ...     0.000000     0.000000   \n",
       "75%      NaN      NaN         NaN       NaN  ...     0.000000     0.000000   \n",
       "max      NaN      NaN         NaN       NaN  ...   576.000000   800.000000   \n",
       "\n",
       "       PoolQC  Fence MiscFeature       MiscVal       MoSold       YrSold  \\\n",
       "count       3    290          51   1459.000000  1459.000000  1459.000000   \n",
       "unique      2      4           3           NaN          NaN          NaN   \n",
       "top        Ex  MnPrv        Shed           NaN          NaN          NaN   \n",
       "freq        2    172          46           NaN          NaN          NaN   \n",
       "mean      NaN    NaN         NaN     58.167923     6.104181  2007.769705   \n",
       "std       NaN    NaN         NaN    630.806978     2.722432     1.301740   \n",
       "min       NaN    NaN         NaN      0.000000     1.000000  2006.000000   \n",
       "25%       NaN    NaN         NaN      0.000000     4.000000  2007.000000   \n",
       "50%       NaN    NaN         NaN      0.000000     6.000000  2008.000000   \n",
       "75%       NaN    NaN         NaN      0.000000     8.000000  2009.000000   \n",
       "max       NaN    NaN         NaN  17000.000000    12.000000  2010.000000   \n",
       "\n",
       "        SaleType  SaleCondition  \n",
       "count       1458           1459  \n",
       "unique         9              6  \n",
       "top           WD         Normal  \n",
       "freq        1258           1204  \n",
       "mean         NaN            NaN  \n",
       "std          NaN            NaN  \n",
       "min          NaN            NaN  \n",
       "25%          NaN            NaN  \n",
       "50%          NaN            NaN  \n",
       "75%          NaN            NaN  \n",
       "max          NaN            NaN  \n",
       "\n",
       "[11 rows x 80 columns]"
      ],
      "text/html": "<div>\n<style scoped>\n    .dataframe tbody tr th:only-of-type {\n        vertical-align: middle;\n    }\n\n    .dataframe tbody tr th {\n        vertical-align: top;\n    }\n\n    .dataframe thead th {\n        text-align: right;\n    }\n</style>\n<table border=\"1\" class=\"dataframe\">\n  <thead>\n    <tr style=\"text-align: right;\">\n      <th></th>\n      <th>Id</th>\n      <th>MSSubClass</th>\n      <th>MSZoning</th>\n      <th>LotFrontage</th>\n      <th>LotArea</th>\n      <th>Street</th>\n      <th>Alley</th>\n      <th>LotShape</th>\n      <th>LandContour</th>\n      <th>Utilities</th>\n      <th>...</th>\n      <th>ScreenPorch</th>\n      <th>PoolArea</th>\n      <th>PoolQC</th>\n      <th>Fence</th>\n      <th>MiscFeature</th>\n      <th>MiscVal</th>\n      <th>MoSold</th>\n      <th>YrSold</th>\n      <th>SaleType</th>\n      <th>SaleCondition</th>\n    </tr>\n  </thead>\n  <tbody>\n    <tr>\n      <td>count</td>\n      <td>1459.000000</td>\n      <td>1459.000000</td>\n      <td>1455</td>\n      <td>1232.000000</td>\n      <td>1459.000000</td>\n      <td>1459</td>\n      <td>107</td>\n      <td>1459</td>\n      <td>1459</td>\n      <td>1457</td>\n      <td>...</td>\n      <td>1459.000000</td>\n      <td>1459.000000</td>\n      <td>3</td>\n      <td>290</td>\n      <td>51</td>\n      <td>1459.000000</td>\n      <td>1459.000000</td>\n      <td>1459.000000</td>\n      <td>1458</td>\n      <td>1459</td>\n    </tr>\n    <tr>\n      <td>unique</td>\n      <td>NaN</td>\n      <td>NaN</td>\n      <td>5</td>\n      <td>NaN</td>\n      <td>NaN</td>\n      <td>2</td>\n      <td>2</td>\n      <td>4</td>\n      <td>4</td>\n      <td>1</td>\n      <td>...</td>\n      <td>NaN</td>\n      <td>NaN</td>\n      <td>2</td>\n      <td>4</td>\n      <td>3</td>\n      <td>NaN</td>\n      <td>NaN</td>\n      <td>NaN</td>\n      <td>9</td>\n      <td>6</td>\n    </tr>\n    <tr>\n      <td>top</td>\n      <td>NaN</td>\n      <td>NaN</td>\n      <td>RL</td>\n      <td>NaN</td>\n      <td>NaN</td>\n      <td>Pave</td>\n      <td>Grvl</td>\n      <td>Reg</td>\n      <td>Lvl</td>\n      <td>AllPub</td>\n      <td>...</td>\n      <td>NaN</td>\n      <td>NaN</td>\n      <td>Ex</td>\n      <td>MnPrv</td>\n      <td>Shed</td>\n      <td>NaN</td>\n      <td>NaN</td>\n      <td>NaN</td>\n      <td>WD</td>\n      <td>Normal</td>\n    </tr>\n    <tr>\n      <td>freq</td>\n      <td>NaN</td>\n      <td>NaN</td>\n      <td>1114</td>\n      <td>NaN</td>\n      <td>NaN</td>\n      <td>1453</td>\n      <td>70</td>\n      <td>934</td>\n      <td>1311</td>\n      <td>1457</td>\n      <td>...</td>\n      <td>NaN</td>\n      <td>NaN</td>\n      <td>2</td>\n      <td>172</td>\n      <td>46</td>\n      <td>NaN</td>\n      <td>NaN</td>\n      <td>NaN</td>\n      <td>1258</td>\n      <td>1204</td>\n    </tr>\n    <tr>\n      <td>mean</td>\n      <td>2190.000000</td>\n      <td>57.378341</td>\n      <td>NaN</td>\n      <td>68.580357</td>\n      <td>9819.161069</td>\n      <td>NaN</td>\n      <td>NaN</td>\n      <td>NaN</td>\n      <td>NaN</td>\n      <td>NaN</td>\n      <td>...</td>\n      <td>17.064428</td>\n      <td>1.744345</td>\n      <td>NaN</td>\n      <td>NaN</td>\n      <td>NaN</td>\n      <td>58.167923</td>\n      <td>6.104181</td>\n      <td>2007.769705</td>\n      <td>NaN</td>\n      <td>NaN</td>\n    </tr>\n    <tr>\n      <td>std</td>\n      <td>421.321334</td>\n      <td>42.746880</td>\n      <td>NaN</td>\n      <td>22.376841</td>\n      <td>4955.517327</td>\n      <td>NaN</td>\n      <td>NaN</td>\n      <td>NaN</td>\n      <td>NaN</td>\n      <td>NaN</td>\n      <td>...</td>\n      <td>56.609763</td>\n      <td>30.491646</td>\n      <td>NaN</td>\n      <td>NaN</td>\n      <td>NaN</td>\n      <td>630.806978</td>\n      <td>2.722432</td>\n      <td>1.301740</td>\n      <td>NaN</td>\n      <td>NaN</td>\n    </tr>\n    <tr>\n      <td>min</td>\n      <td>1461.000000</td>\n      <td>20.000000</td>\n      <td>NaN</td>\n      <td>21.000000</td>\n      <td>1470.000000</td>\n      <td>NaN</td>\n      <td>NaN</td>\n      <td>NaN</td>\n      <td>NaN</td>\n      <td>NaN</td>\n      <td>...</td>\n      <td>0.000000</td>\n      <td>0.000000</td>\n      <td>NaN</td>\n      <td>NaN</td>\n      <td>NaN</td>\n      <td>0.000000</td>\n      <td>1.000000</td>\n      <td>2006.000000</td>\n      <td>NaN</td>\n      <td>NaN</td>\n    </tr>\n    <tr>\n      <td>25%</td>\n      <td>1825.500000</td>\n      <td>20.000000</td>\n      <td>NaN</td>\n      <td>58.000000</td>\n      <td>7391.000000</td>\n      <td>NaN</td>\n      <td>NaN</td>\n      <td>NaN</td>\n      <td>NaN</td>\n      <td>NaN</td>\n      <td>...</td>\n      <td>0.000000</td>\n      <td>0.000000</td>\n      <td>NaN</td>\n      <td>NaN</td>\n      <td>NaN</td>\n      <td>0.000000</td>\n      <td>4.000000</td>\n      <td>2007.000000</td>\n      <td>NaN</td>\n      <td>NaN</td>\n    </tr>\n    <tr>\n      <td>50%</td>\n      <td>2190.000000</td>\n      <td>50.000000</td>\n      <td>NaN</td>\n      <td>67.000000</td>\n      <td>9399.000000</td>\n      <td>NaN</td>\n      <td>NaN</td>\n      <td>NaN</td>\n      <td>NaN</td>\n      <td>NaN</td>\n      <td>...</td>\n      <td>0.000000</td>\n      <td>0.000000</td>\n      <td>NaN</td>\n      <td>NaN</td>\n      <td>NaN</td>\n      <td>0.000000</td>\n      <td>6.000000</td>\n      <td>2008.000000</td>\n      <td>NaN</td>\n      <td>NaN</td>\n    </tr>\n    <tr>\n      <td>75%</td>\n      <td>2554.500000</td>\n      <td>70.000000</td>\n      <td>NaN</td>\n      <td>80.000000</td>\n      <td>11517.500000</td>\n      <td>NaN</td>\n      <td>NaN</td>\n      <td>NaN</td>\n      <td>NaN</td>\n      <td>NaN</td>\n      <td>...</td>\n      <td>0.000000</td>\n      <td>0.000000</td>\n      <td>NaN</td>\n      <td>NaN</td>\n      <td>NaN</td>\n      <td>0.000000</td>\n      <td>8.000000</td>\n      <td>2009.000000</td>\n      <td>NaN</td>\n      <td>NaN</td>\n    </tr>\n    <tr>\n      <td>max</td>\n      <td>2919.000000</td>\n      <td>190.000000</td>\n      <td>NaN</td>\n      <td>200.000000</td>\n      <td>56600.000000</td>\n      <td>NaN</td>\n      <td>NaN</td>\n      <td>NaN</td>\n      <td>NaN</td>\n      <td>NaN</td>\n      <td>...</td>\n      <td>576.000000</td>\n      <td>800.000000</td>\n      <td>NaN</td>\n      <td>NaN</td>\n      <td>NaN</td>\n      <td>17000.000000</td>\n      <td>12.000000</td>\n      <td>2010.000000</td>\n      <td>NaN</td>\n      <td>NaN</td>\n    </tr>\n  </tbody>\n</table>\n<p>11 rows × 80 columns</p>\n</div>"
     },
     "metadata": {},
     "execution_count": 24
    }
   ],
   "source": [
    "df_test.describe(include='all')"
   ]
  },
  {
   "cell_type": "code",
   "execution_count": 25,
   "metadata": {},
   "outputs": [
    {
     "output_type": "execute_result",
     "data": {
      "text/plain": [
       "                Id   MSSubClass  LotFrontage       LotArea  OverallQual  \\\n",
       "count  1459.000000  1459.000000  1232.000000   1459.000000  1459.000000   \n",
       "mean   2190.000000    57.378341    68.580357   9819.161069     6.078821   \n",
       "std     421.321334    42.746880    22.376841   4955.517327     1.436812   \n",
       "min    1461.000000    20.000000    21.000000   1470.000000     1.000000   \n",
       "25%    1825.500000    20.000000    58.000000   7391.000000     5.000000   \n",
       "50%    2190.000000    50.000000    67.000000   9399.000000     6.000000   \n",
       "75%    2554.500000    70.000000    80.000000  11517.500000     7.000000   \n",
       "max    2919.000000   190.000000   200.000000  56600.000000    10.000000   \n",
       "\n",
       "       OverallCond    YearBuilt  YearRemodAdd   MasVnrArea   BsmtFinSF1  ...  \\\n",
       "count  1459.000000  1459.000000   1459.000000  1444.000000  1458.000000  ...   \n",
       "mean      5.553804  1971.357779   1983.662783   100.709141   439.203704  ...   \n",
       "std       1.113740    30.390071     21.130467   177.625900   455.268042  ...   \n",
       "min       1.000000  1879.000000   1950.000000     0.000000     0.000000  ...   \n",
       "25%       5.000000  1953.000000   1963.000000     0.000000     0.000000  ...   \n",
       "50%       5.000000  1973.000000   1992.000000     0.000000   350.500000  ...   \n",
       "75%       6.000000  2001.000000   2004.000000   164.000000   753.500000  ...   \n",
       "max       9.000000  2010.000000   2010.000000  1290.000000  4010.000000  ...   \n",
       "\n",
       "        GarageArea   WoodDeckSF  OpenPorchSF  EnclosedPorch    3SsnPorch  \\\n",
       "count  1458.000000  1459.000000  1459.000000    1459.000000  1459.000000   \n",
       "mean    472.768861    93.174777    48.313914      24.243317     1.794380   \n",
       "std     217.048611   127.744882    68.883364      67.227765    20.207842   \n",
       "min       0.000000     0.000000     0.000000       0.000000     0.000000   \n",
       "25%     318.000000     0.000000     0.000000       0.000000     0.000000   \n",
       "50%     480.000000     0.000000    28.000000       0.000000     0.000000   \n",
       "75%     576.000000   168.000000    72.000000       0.000000     0.000000   \n",
       "max    1488.000000  1424.000000   742.000000    1012.000000   360.000000   \n",
       "\n",
       "       ScreenPorch     PoolArea       MiscVal       MoSold       YrSold  \n",
       "count  1459.000000  1459.000000   1459.000000  1459.000000  1459.000000  \n",
       "mean     17.064428     1.744345     58.167923     6.104181  2007.769705  \n",
       "std      56.609763    30.491646    630.806978     2.722432     1.301740  \n",
       "min       0.000000     0.000000      0.000000     1.000000  2006.000000  \n",
       "25%       0.000000     0.000000      0.000000     4.000000  2007.000000  \n",
       "50%       0.000000     0.000000      0.000000     6.000000  2008.000000  \n",
       "75%       0.000000     0.000000      0.000000     8.000000  2009.000000  \n",
       "max     576.000000   800.000000  17000.000000    12.000000  2010.000000  \n",
       "\n",
       "[8 rows x 37 columns]"
      ],
      "text/html": "<div>\n<style scoped>\n    .dataframe tbody tr th:only-of-type {\n        vertical-align: middle;\n    }\n\n    .dataframe tbody tr th {\n        vertical-align: top;\n    }\n\n    .dataframe thead th {\n        text-align: right;\n    }\n</style>\n<table border=\"1\" class=\"dataframe\">\n  <thead>\n    <tr style=\"text-align: right;\">\n      <th></th>\n      <th>Id</th>\n      <th>MSSubClass</th>\n      <th>LotFrontage</th>\n      <th>LotArea</th>\n      <th>OverallQual</th>\n      <th>OverallCond</th>\n      <th>YearBuilt</th>\n      <th>YearRemodAdd</th>\n      <th>MasVnrArea</th>\n      <th>BsmtFinSF1</th>\n      <th>...</th>\n      <th>GarageArea</th>\n      <th>WoodDeckSF</th>\n      <th>OpenPorchSF</th>\n      <th>EnclosedPorch</th>\n      <th>3SsnPorch</th>\n      <th>ScreenPorch</th>\n      <th>PoolArea</th>\n      <th>MiscVal</th>\n      <th>MoSold</th>\n      <th>YrSold</th>\n    </tr>\n  </thead>\n  <tbody>\n    <tr>\n      <td>count</td>\n      <td>1459.000000</td>\n      <td>1459.000000</td>\n      <td>1232.000000</td>\n      <td>1459.000000</td>\n      <td>1459.000000</td>\n      <td>1459.000000</td>\n      <td>1459.000000</td>\n      <td>1459.000000</td>\n      <td>1444.000000</td>\n      <td>1458.000000</td>\n      <td>...</td>\n      <td>1458.000000</td>\n      <td>1459.000000</td>\n      <td>1459.000000</td>\n      <td>1459.000000</td>\n      <td>1459.000000</td>\n      <td>1459.000000</td>\n      <td>1459.000000</td>\n      <td>1459.000000</td>\n      <td>1459.000000</td>\n      <td>1459.000000</td>\n    </tr>\n    <tr>\n      <td>mean</td>\n      <td>2190.000000</td>\n      <td>57.378341</td>\n      <td>68.580357</td>\n      <td>9819.161069</td>\n      <td>6.078821</td>\n      <td>5.553804</td>\n      <td>1971.357779</td>\n      <td>1983.662783</td>\n      <td>100.709141</td>\n      <td>439.203704</td>\n      <td>...</td>\n      <td>472.768861</td>\n      <td>93.174777</td>\n      <td>48.313914</td>\n      <td>24.243317</td>\n      <td>1.794380</td>\n      <td>17.064428</td>\n      <td>1.744345</td>\n      <td>58.167923</td>\n      <td>6.104181</td>\n      <td>2007.769705</td>\n    </tr>\n    <tr>\n      <td>std</td>\n      <td>421.321334</td>\n      <td>42.746880</td>\n      <td>22.376841</td>\n      <td>4955.517327</td>\n      <td>1.436812</td>\n      <td>1.113740</td>\n      <td>30.390071</td>\n      <td>21.130467</td>\n      <td>177.625900</td>\n      <td>455.268042</td>\n      <td>...</td>\n      <td>217.048611</td>\n      <td>127.744882</td>\n      <td>68.883364</td>\n      <td>67.227765</td>\n      <td>20.207842</td>\n      <td>56.609763</td>\n      <td>30.491646</td>\n      <td>630.806978</td>\n      <td>2.722432</td>\n      <td>1.301740</td>\n    </tr>\n    <tr>\n      <td>min</td>\n      <td>1461.000000</td>\n      <td>20.000000</td>\n      <td>21.000000</td>\n      <td>1470.000000</td>\n      <td>1.000000</td>\n      <td>1.000000</td>\n      <td>1879.000000</td>\n      <td>1950.000000</td>\n      <td>0.000000</td>\n      <td>0.000000</td>\n      <td>...</td>\n      <td>0.000000</td>\n      <td>0.000000</td>\n      <td>0.000000</td>\n      <td>0.000000</td>\n      <td>0.000000</td>\n      <td>0.000000</td>\n      <td>0.000000</td>\n      <td>0.000000</td>\n      <td>1.000000</td>\n      <td>2006.000000</td>\n    </tr>\n    <tr>\n      <td>25%</td>\n      <td>1825.500000</td>\n      <td>20.000000</td>\n      <td>58.000000</td>\n      <td>7391.000000</td>\n      <td>5.000000</td>\n      <td>5.000000</td>\n      <td>1953.000000</td>\n      <td>1963.000000</td>\n      <td>0.000000</td>\n      <td>0.000000</td>\n      <td>...</td>\n      <td>318.000000</td>\n      <td>0.000000</td>\n      <td>0.000000</td>\n      <td>0.000000</td>\n      <td>0.000000</td>\n      <td>0.000000</td>\n      <td>0.000000</td>\n      <td>0.000000</td>\n      <td>4.000000</td>\n      <td>2007.000000</td>\n    </tr>\n    <tr>\n      <td>50%</td>\n      <td>2190.000000</td>\n      <td>50.000000</td>\n      <td>67.000000</td>\n      <td>9399.000000</td>\n      <td>6.000000</td>\n      <td>5.000000</td>\n      <td>1973.000000</td>\n      <td>1992.000000</td>\n      <td>0.000000</td>\n      <td>350.500000</td>\n      <td>...</td>\n      <td>480.000000</td>\n      <td>0.000000</td>\n      <td>28.000000</td>\n      <td>0.000000</td>\n      <td>0.000000</td>\n      <td>0.000000</td>\n      <td>0.000000</td>\n      <td>0.000000</td>\n      <td>6.000000</td>\n      <td>2008.000000</td>\n    </tr>\n    <tr>\n      <td>75%</td>\n      <td>2554.500000</td>\n      <td>70.000000</td>\n      <td>80.000000</td>\n      <td>11517.500000</td>\n      <td>7.000000</td>\n      <td>6.000000</td>\n      <td>2001.000000</td>\n      <td>2004.000000</td>\n      <td>164.000000</td>\n      <td>753.500000</td>\n      <td>...</td>\n      <td>576.000000</td>\n      <td>168.000000</td>\n      <td>72.000000</td>\n      <td>0.000000</td>\n      <td>0.000000</td>\n      <td>0.000000</td>\n      <td>0.000000</td>\n      <td>0.000000</td>\n      <td>8.000000</td>\n      <td>2009.000000</td>\n    </tr>\n    <tr>\n      <td>max</td>\n      <td>2919.000000</td>\n      <td>190.000000</td>\n      <td>200.000000</td>\n      <td>56600.000000</td>\n      <td>10.000000</td>\n      <td>9.000000</td>\n      <td>2010.000000</td>\n      <td>2010.000000</td>\n      <td>1290.000000</td>\n      <td>4010.000000</td>\n      <td>...</td>\n      <td>1488.000000</td>\n      <td>1424.000000</td>\n      <td>742.000000</td>\n      <td>1012.000000</td>\n      <td>360.000000</td>\n      <td>576.000000</td>\n      <td>800.000000</td>\n      <td>17000.000000</td>\n      <td>12.000000</td>\n      <td>2010.000000</td>\n    </tr>\n  </tbody>\n</table>\n<p>8 rows × 37 columns</p>\n</div>"
     },
     "metadata": {},
     "execution_count": 25
    }
   ],
   "source": [
    "df_test.describe(include=np.number)"
   ]
  },
  {
   "cell_type": "code",
   "execution_count": 26,
   "metadata": {},
   "outputs": [
    {
     "output_type": "execute_result",
     "data": {
      "text/plain": [
       "       MSZoning Street Alley LotShape LandContour Utilities LotConfig  \\\n",
       "count      1455   1459   107     1459        1459      1457      1459   \n",
       "unique        5      2     2        4           4         1         5   \n",
       "top          RL   Pave  Grvl      Reg         Lvl    AllPub    Inside   \n",
       "freq       1114   1453    70      934        1311      1457      1081   \n",
       "\n",
       "       LandSlope Neighborhood Condition1  ... GarageType GarageFinish  \\\n",
       "count       1459         1459       1459  ...       1383         1381   \n",
       "unique         3           25          9  ...          6            3   \n",
       "top          Gtl        NAmes       Norm  ...     Attchd          Unf   \n",
       "freq        1396          218       1251  ...        853          625   \n",
       "\n",
       "       GarageQual GarageCond PavedDrive PoolQC  Fence MiscFeature SaleType  \\\n",
       "count        1381       1381       1459      3    290          51     1458   \n",
       "unique          4          5          3      2      4           3        9   \n",
       "top            TA         TA          Y     Ex  MnPrv        Shed       WD   \n",
       "freq         1293       1328       1301      2    172          46     1258   \n",
       "\n",
       "       SaleCondition  \n",
       "count           1459  \n",
       "unique             6  \n",
       "top           Normal  \n",
       "freq            1204  \n",
       "\n",
       "[4 rows x 43 columns]"
      ],
      "text/html": "<div>\n<style scoped>\n    .dataframe tbody tr th:only-of-type {\n        vertical-align: middle;\n    }\n\n    .dataframe tbody tr th {\n        vertical-align: top;\n    }\n\n    .dataframe thead th {\n        text-align: right;\n    }\n</style>\n<table border=\"1\" class=\"dataframe\">\n  <thead>\n    <tr style=\"text-align: right;\">\n      <th></th>\n      <th>MSZoning</th>\n      <th>Street</th>\n      <th>Alley</th>\n      <th>LotShape</th>\n      <th>LandContour</th>\n      <th>Utilities</th>\n      <th>LotConfig</th>\n      <th>LandSlope</th>\n      <th>Neighborhood</th>\n      <th>Condition1</th>\n      <th>...</th>\n      <th>GarageType</th>\n      <th>GarageFinish</th>\n      <th>GarageQual</th>\n      <th>GarageCond</th>\n      <th>PavedDrive</th>\n      <th>PoolQC</th>\n      <th>Fence</th>\n      <th>MiscFeature</th>\n      <th>SaleType</th>\n      <th>SaleCondition</th>\n    </tr>\n  </thead>\n  <tbody>\n    <tr>\n      <td>count</td>\n      <td>1455</td>\n      <td>1459</td>\n      <td>107</td>\n      <td>1459</td>\n      <td>1459</td>\n      <td>1457</td>\n      <td>1459</td>\n      <td>1459</td>\n      <td>1459</td>\n      <td>1459</td>\n      <td>...</td>\n      <td>1383</td>\n      <td>1381</td>\n      <td>1381</td>\n      <td>1381</td>\n      <td>1459</td>\n      <td>3</td>\n      <td>290</td>\n      <td>51</td>\n      <td>1458</td>\n      <td>1459</td>\n    </tr>\n    <tr>\n      <td>unique</td>\n      <td>5</td>\n      <td>2</td>\n      <td>2</td>\n      <td>4</td>\n      <td>4</td>\n      <td>1</td>\n      <td>5</td>\n      <td>3</td>\n      <td>25</td>\n      <td>9</td>\n      <td>...</td>\n      <td>6</td>\n      <td>3</td>\n      <td>4</td>\n      <td>5</td>\n      <td>3</td>\n      <td>2</td>\n      <td>4</td>\n      <td>3</td>\n      <td>9</td>\n      <td>6</td>\n    </tr>\n    <tr>\n      <td>top</td>\n      <td>RL</td>\n      <td>Pave</td>\n      <td>Grvl</td>\n      <td>Reg</td>\n      <td>Lvl</td>\n      <td>AllPub</td>\n      <td>Inside</td>\n      <td>Gtl</td>\n      <td>NAmes</td>\n      <td>Norm</td>\n      <td>...</td>\n      <td>Attchd</td>\n      <td>Unf</td>\n      <td>TA</td>\n      <td>TA</td>\n      <td>Y</td>\n      <td>Ex</td>\n      <td>MnPrv</td>\n      <td>Shed</td>\n      <td>WD</td>\n      <td>Normal</td>\n    </tr>\n    <tr>\n      <td>freq</td>\n      <td>1114</td>\n      <td>1453</td>\n      <td>70</td>\n      <td>934</td>\n      <td>1311</td>\n      <td>1457</td>\n      <td>1081</td>\n      <td>1396</td>\n      <td>218</td>\n      <td>1251</td>\n      <td>...</td>\n      <td>853</td>\n      <td>625</td>\n      <td>1293</td>\n      <td>1328</td>\n      <td>1301</td>\n      <td>2</td>\n      <td>172</td>\n      <td>46</td>\n      <td>1258</td>\n      <td>1204</td>\n    </tr>\n  </tbody>\n</table>\n<p>4 rows × 43 columns</p>\n</div>"
     },
     "metadata": {},
     "execution_count": 26
    }
   ],
   "source": [
    "df_test.describe(exclude=np.number)"
   ]
  },
  {
   "source": [
    "## Finding and Managing Null values\n"
   ],
   "cell_type": "markdown",
   "metadata": {}
  },
  {
   "source": [
    "### Finding Nulls"
   ],
   "cell_type": "markdown",
   "metadata": {}
  },
  {
   "cell_type": "code",
   "execution_count": 27,
   "metadata": {},
   "outputs": [
    {
     "output_type": "stream",
     "name": "stdout",
     "text": [
      "<class 'pandas.core.frame.DataFrame'>\nRangeIndex: 1459 entries, 0 to 1458\nData columns (total 80 columns):\nId               1459 non-null int64\nMSSubClass       1459 non-null int64\nMSZoning         1455 non-null object\nLotFrontage      1232 non-null float64\nLotArea          1459 non-null int64\nStreet           1459 non-null object\nAlley            107 non-null object\nLotShape         1459 non-null object\nLandContour      1459 non-null object\nUtilities        1457 non-null object\nLotConfig        1459 non-null object\nLandSlope        1459 non-null object\nNeighborhood     1459 non-null object\nCondition1       1459 non-null object\nCondition2       1459 non-null object\nBldgType         1459 non-null object\nHouseStyle       1459 non-null object\nOverallQual      1459 non-null int64\nOverallCond      1459 non-null int64\nYearBuilt        1459 non-null int64\nYearRemodAdd     1459 non-null int64\nRoofStyle        1459 non-null object\nRoofMatl         1459 non-null object\nExterior1st      1458 non-null object\nExterior2nd      1458 non-null object\nMasVnrType       1443 non-null object\nMasVnrArea       1444 non-null float64\nExterQual        1459 non-null object\nExterCond        1459 non-null object\nFoundation       1459 non-null object\nBsmtQual         1415 non-null object\nBsmtCond         1414 non-null object\nBsmtExposure     1415 non-null object\nBsmtFinType1     1417 non-null object\nBsmtFinSF1       1458 non-null float64\nBsmtFinType2     1417 non-null object\nBsmtFinSF2       1458 non-null float64\nBsmtUnfSF        1458 non-null float64\nTotalBsmtSF      1458 non-null float64\nHeating          1459 non-null object\nHeatingQC        1459 non-null object\nCentralAir       1459 non-null object\nElectrical       1459 non-null object\n1stFlrSF         1459 non-null int64\n2ndFlrSF         1459 non-null int64\nLowQualFinSF     1459 non-null int64\nGrLivArea        1459 non-null int64\nBsmtFullBath     1457 non-null float64\nBsmtHalfBath     1457 non-null float64\nFullBath         1459 non-null int64\nHalfBath         1459 non-null int64\nBedroomAbvGr     1459 non-null int64\nKitchenAbvGr     1459 non-null int64\nKitchenQual      1458 non-null object\nTotRmsAbvGrd     1459 non-null int64\nFunctional       1457 non-null object\nFireplaces       1459 non-null int64\nFireplaceQu      729 non-null object\nGarageType       1383 non-null object\nGarageYrBlt      1381 non-null float64\nGarageFinish     1381 non-null object\nGarageCars       1458 non-null float64\nGarageArea       1458 non-null float64\nGarageQual       1381 non-null object\nGarageCond       1381 non-null object\nPavedDrive       1459 non-null object\nWoodDeckSF       1459 non-null int64\nOpenPorchSF      1459 non-null int64\nEnclosedPorch    1459 non-null int64\n3SsnPorch        1459 non-null int64\nScreenPorch      1459 non-null int64\nPoolArea         1459 non-null int64\nPoolQC           3 non-null object\nFence            290 non-null object\nMiscFeature      51 non-null object\nMiscVal          1459 non-null int64\nMoSold           1459 non-null int64\nYrSold           1459 non-null int64\nSaleType         1458 non-null object\nSaleCondition    1459 non-null object\ndtypes: float64(11), int64(26), object(43)\nmemory usage: 912.0+ KB\n"
     ]
    }
   ],
   "source": [
    "df_test.info()"
   ]
  },
  {
   "cell_type": "code",
   "execution_count": 28,
   "metadata": {},
   "outputs": [],
   "source": [
    "#sns.heatmap(df_test.isnull(),yticklabels=False,cbar=False)\n",
    "#plt.show()"
   ]
  },
  {
   "cell_type": "code",
   "execution_count": 29,
   "metadata": {},
   "outputs": [
    {
     "output_type": "execute_result",
     "data": {
      "text/plain": [
       "PoolQC          1456\n",
       "MiscFeature     1408\n",
       "Alley           1352\n",
       "Fence           1169\n",
       "FireplaceQu      730\n",
       "LotFrontage      227\n",
       "GarageCond        78\n",
       "GarageQual        78\n",
       "GarageYrBlt       78\n",
       "GarageFinish      78\n",
       "GarageType        76\n",
       "BsmtCond          45\n",
       "BsmtQual          44\n",
       "BsmtExposure      44\n",
       "BsmtFinType1      42\n",
       "BsmtFinType2      42\n",
       "MasVnrType        16\n",
       "MasVnrArea        15\n",
       "MSZoning           4\n",
       "BsmtHalfBath       2\n",
       "Utilities          2\n",
       "Functional         2\n",
       "BsmtFullBath       2\n",
       "BsmtFinSF2         1\n",
       "BsmtFinSF1         1\n",
       "Exterior2nd        1\n",
       "BsmtUnfSF          1\n",
       "TotalBsmtSF        1\n",
       "SaleType           1\n",
       "Exterior1st        1\n",
       "KitchenQual        1\n",
       "GarageArea         1\n",
       "GarageCars         1\n",
       "HouseStyle         0\n",
       "dtype: int64"
      ]
     },
     "metadata": {},
     "execution_count": 29
    }
   ],
   "source": [
    "nulls = df_test.isnull().sum().sort_values(ascending=False)[:34]\n",
    "nulls"
   ]
  },
  {
   "source": [
    "### Managing Nulls"
   ],
   "cell_type": "markdown",
   "metadata": {}
  },
  {
   "cell_type": "code",
   "execution_count": 30,
   "metadata": {},
   "outputs": [],
   "source": [
    "def fillndrop(x,parameter,df,manual=None):\n",
    "    \"\"\"input is a list of column title, and if you want the mean, mode, or drop. \n",
    "    After replacing columns with nulls, function will drop remaining values\n",
    "    \"\"\"\n",
    "    if parameter == 'mode':\n",
    "        for i in x:\n",
    "            df[i] = df[i].fillna(df[i].mode()[0])\n",
    "    if parameter == 'mean':\n",
    "        for i in x:\n",
    "            df[i] = df[i].fillna(df[i].mean())\n",
    "    if parameter == 'drop':\n",
    "        for i in x:\n",
    "            if i not in df:\n",
    "                break\n",
    "            else:\n",
    "                df.drop(i,axis=1,inplace=True)\n",
    "    if parameter == 'manual':\n",
    "        for i in x:\n",
    "            df[i] = df[i].fillna(manual)"
   ]
  },
  {
   "cell_type": "code",
   "execution_count": 31,
   "metadata": {},
   "outputs": [],
   "source": [
    "#nulls.index.to_list()"
   ]
  },
  {
   "cell_type": "code",
   "execution_count": 32,
   "metadata": {},
   "outputs": [],
   "source": [
    "#df_test['SaleType'].unique()"
   ]
  },
  {
   "cell_type": "code",
   "execution_count": 33,
   "metadata": {},
   "outputs": [],
   "source": [
    "#df_test['SaleType'].value_counts()"
   ]
  },
  {
   "cell_type": "code",
   "execution_count": 34,
   "metadata": {},
   "outputs": [],
   "source": [
    "# manual fill NA\n",
    "fillndrop(['PoolQC','MiscFeature','Alley','Fence','FireplaceQu', 'GarageCond','GarageType','GarageFinish','GarageQual','BsmtExposure','BsmtFinType2','BsmtFinType1','BsmtCond','BsmtQual',],'manual',df_test,manual='None')"
   ]
  },
  {
   "cell_type": "code",
   "execution_count": 35,
   "metadata": {},
   "outputs": [],
   "source": [
    "# mean fill\n",
    "fillndrop(['LotFrontage','GarageArea','BsmtFinSF2','BsmtFinSF1','BsmtUnfSF','TotalBsmtSF'],'mean',df_test)"
   ]
  },
  {
   "cell_type": "code",
   "execution_count": 36,
   "metadata": {},
   "outputs": [],
   "source": [
    "# mode fill\n",
    "fillndrop(['MasVnrType','MasVnrArea','Electrical','MSZoning','BsmtFullBath','Functional','Utilities','BsmtHalfBath','GarageCars','Exterior1st','Exterior2nd','KitchenQual','SaleType'],'mode',df_test)"
   ]
  },
  {
   "cell_type": "code",
   "execution_count": 37,
   "metadata": {},
   "outputs": [],
   "source": [
    "# drop variable\n",
    "fillndrop(['GarageYrBlt','Id'],'drop',df_test)"
   ]
  },
  {
   "cell_type": "code",
   "execution_count": 38,
   "metadata": {},
   "outputs": [
    {
     "output_type": "stream",
     "name": "stdout",
     "text": [
      "<class 'pandas.core.frame.DataFrame'>\nRangeIndex: 1459 entries, 0 to 1458\nData columns (total 78 columns):\nMSSubClass       1459 non-null int64\nMSZoning         1459 non-null object\nLotFrontage      1459 non-null float64\nLotArea          1459 non-null int64\nStreet           1459 non-null object\nAlley            1459 non-null object\nLotShape         1459 non-null object\nLandContour      1459 non-null object\nUtilities        1459 non-null object\nLotConfig        1459 non-null object\nLandSlope        1459 non-null object\nNeighborhood     1459 non-null object\nCondition1       1459 non-null object\nCondition2       1459 non-null object\nBldgType         1459 non-null object\nHouseStyle       1459 non-null object\nOverallQual      1459 non-null int64\nOverallCond      1459 non-null int64\nYearBuilt        1459 non-null int64\nYearRemodAdd     1459 non-null int64\nRoofStyle        1459 non-null object\nRoofMatl         1459 non-null object\nExterior1st      1459 non-null object\nExterior2nd      1459 non-null object\nMasVnrType       1459 non-null object\nMasVnrArea       1459 non-null float64\nExterQual        1459 non-null object\nExterCond        1459 non-null object\nFoundation       1459 non-null object\nBsmtQual         1459 non-null object\nBsmtCond         1459 non-null object\nBsmtExposure     1459 non-null object\nBsmtFinType1     1459 non-null object\nBsmtFinSF1       1459 non-null float64\nBsmtFinType2     1459 non-null object\nBsmtFinSF2       1459 non-null float64\nBsmtUnfSF        1459 non-null float64\nTotalBsmtSF      1459 non-null float64\nHeating          1459 non-null object\nHeatingQC        1459 non-null object\nCentralAir       1459 non-null object\nElectrical       1459 non-null object\n1stFlrSF         1459 non-null int64\n2ndFlrSF         1459 non-null int64\nLowQualFinSF     1459 non-null int64\nGrLivArea        1459 non-null int64\nBsmtFullBath     1459 non-null float64\nBsmtHalfBath     1459 non-null float64\nFullBath         1459 non-null int64\nHalfBath         1459 non-null int64\nBedroomAbvGr     1459 non-null int64\nKitchenAbvGr     1459 non-null int64\nKitchenQual      1459 non-null object\nTotRmsAbvGrd     1459 non-null int64\nFunctional       1459 non-null object\nFireplaces       1459 non-null int64\nFireplaceQu      1459 non-null object\nGarageType       1459 non-null object\nGarageFinish     1459 non-null object\nGarageCars       1459 non-null float64\nGarageArea       1459 non-null float64\nGarageQual       1459 non-null object\nGarageCond       1459 non-null object\nPavedDrive       1459 non-null object\nWoodDeckSF       1459 non-null int64\nOpenPorchSF      1459 non-null int64\nEnclosedPorch    1459 non-null int64\n3SsnPorch        1459 non-null int64\nScreenPorch      1459 non-null int64\nPoolArea         1459 non-null int64\nPoolQC           1459 non-null object\nFence            1459 non-null object\nMiscFeature      1459 non-null object\nMiscVal          1459 non-null int64\nMoSold           1459 non-null int64\nYrSold           1459 non-null int64\nSaleType         1459 non-null object\nSaleCondition    1459 non-null object\ndtypes: float64(10), int64(25), object(43)\nmemory usage: 889.2+ KB\n"
     ]
    }
   ],
   "source": [
    "df_test.info()"
   ]
  },
  {
   "cell_type": "code",
   "execution_count": 39,
   "metadata": {},
   "outputs": [
    {
     "output_type": "execute_result",
     "data": {
      "text/plain": [
       "(1459, 78)"
      ]
     },
     "metadata": {},
     "execution_count": 39
    }
   ],
   "source": [
    "df_test.shape"
   ]
  },
  {
   "cell_type": "code",
   "execution_count": 40,
   "metadata": {},
   "outputs": [],
   "source": [
    "df_test.to_csv('formulatedtest.csv',index=False)"
   ]
  },
  {
   "cell_type": "code",
   "execution_count": null,
   "metadata": {},
   "outputs": [],
   "source": []
  }
 ]
}