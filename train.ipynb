{
 "metadata": {
  "language_info": {
   "codemirror_mode": {
    "name": "ipython",
    "version": 3
   },
   "file_extension": ".py",
   "mimetype": "text/x-python",
   "name": "python",
   "nbconvert_exporter": "python",
   "pygments_lexer": "ipython3",
   "version": "3.7.4-final"
  },
  "orig_nbformat": 2,
  "kernelspec": {
   "name": "python3",
   "display_name": "Python 3",
   "language": "python"
  }
 },
 "nbformat": 4,
 "nbformat_minor": 2,
 "cells": [
  {
   "cell_type": "code",
   "execution_count": 69,
   "metadata": {},
   "outputs": [],
   "source": [
    "import pandas as pd\n",
    "import matplotlib.pyplot  as plt\n",
    "import seaborn as sns\n",
    "import numpy as np\n",
    "from scipy.stats import norm\n",
    "from sklearn.preprocessing import StandardScaler\n",
    "from scipy import stats\n",
    "import warnings\n",
    "warnings.filterwarnings('ignore')\n",
    "%matplotlib inline"
   ]
  },
  {
   "cell_type": "code",
   "execution_count": 70,
   "metadata": {},
   "outputs": [],
   "source": [
    "df_train = pd.read_csv('train.csv')\n"
   ]
  },
  {
   "source": [
    "# Data Exploration\n",
    "\n",
    "- Number of variables and observation\n",
    "- Looking for null Values\n",
    "\n"
   ],
   "cell_type": "markdown",
   "metadata": {}
  },
  {
   "cell_type": "code",
   "execution_count": 71,
   "metadata": {},
   "outputs": [
    {
     "output_type": "stream",
     "name": "stdout",
     "text": [
      "There are 81 variables\nThere are 1460 observations\n"
     ]
    }
   ],
   "source": [
    "shape = df_train.shape\n",
    "print(f'There are {shape[1]} variables')\n",
    "print(f'There are {shape[0]} observations')"
   ]
  },
  {
   "cell_type": "code",
   "execution_count": 72,
   "metadata": {},
   "outputs": [
    {
     "output_type": "execute_result",
     "data": {
      "text/plain": [
       "                 Id   MSSubClass MSZoning  LotFrontage        LotArea Street  \\\n",
       "count   1460.000000  1460.000000     1460  1201.000000    1460.000000   1460   \n",
       "unique          NaN          NaN        5          NaN            NaN      2   \n",
       "top             NaN          NaN       RL          NaN            NaN   Pave   \n",
       "freq            NaN          NaN     1151          NaN            NaN   1454   \n",
       "mean     730.500000    56.897260      NaN    70.049958   10516.828082    NaN   \n",
       "std      421.610009    42.300571      NaN    24.284752    9981.264932    NaN   \n",
       "min        1.000000    20.000000      NaN    21.000000    1300.000000    NaN   \n",
       "25%      365.750000    20.000000      NaN    59.000000    7553.500000    NaN   \n",
       "50%      730.500000    50.000000      NaN    69.000000    9478.500000    NaN   \n",
       "75%     1095.250000    70.000000      NaN    80.000000   11601.500000    NaN   \n",
       "max     1460.000000   190.000000      NaN   313.000000  215245.000000    NaN   \n",
       "\n",
       "       Alley LotShape LandContour Utilities  ...     PoolArea PoolQC  Fence  \\\n",
       "count     91     1460        1460      1460  ...  1460.000000      7    281   \n",
       "unique     2        4           4         2  ...          NaN      3      4   \n",
       "top     Grvl      Reg         Lvl    AllPub  ...          NaN     Gd  MnPrv   \n",
       "freq      50      925        1311      1459  ...          NaN      3    157   \n",
       "mean     NaN      NaN         NaN       NaN  ...     2.758904    NaN    NaN   \n",
       "std      NaN      NaN         NaN       NaN  ...    40.177307    NaN    NaN   \n",
       "min      NaN      NaN         NaN       NaN  ...     0.000000    NaN    NaN   \n",
       "25%      NaN      NaN         NaN       NaN  ...     0.000000    NaN    NaN   \n",
       "50%      NaN      NaN         NaN       NaN  ...     0.000000    NaN    NaN   \n",
       "75%      NaN      NaN         NaN       NaN  ...     0.000000    NaN    NaN   \n",
       "max      NaN      NaN         NaN       NaN  ...   738.000000    NaN    NaN   \n",
       "\n",
       "       MiscFeature       MiscVal       MoSold       YrSold  SaleType  \\\n",
       "count           54   1460.000000  1460.000000  1460.000000      1460   \n",
       "unique           4           NaN          NaN          NaN         9   \n",
       "top           Shed           NaN          NaN          NaN        WD   \n",
       "freq            49           NaN          NaN          NaN      1267   \n",
       "mean           NaN     43.489041     6.321918  2007.815753       NaN   \n",
       "std            NaN    496.123024     2.703626     1.328095       NaN   \n",
       "min            NaN      0.000000     1.000000  2006.000000       NaN   \n",
       "25%            NaN      0.000000     5.000000  2007.000000       NaN   \n",
       "50%            NaN      0.000000     6.000000  2008.000000       NaN   \n",
       "75%            NaN      0.000000     8.000000  2009.000000       NaN   \n",
       "max            NaN  15500.000000    12.000000  2010.000000       NaN   \n",
       "\n",
       "        SaleCondition      SalePrice  \n",
       "count            1460    1460.000000  \n",
       "unique              6            NaN  \n",
       "top            Normal            NaN  \n",
       "freq             1198            NaN  \n",
       "mean              NaN  180921.195890  \n",
       "std               NaN   79442.502883  \n",
       "min               NaN   34900.000000  \n",
       "25%               NaN  129975.000000  \n",
       "50%               NaN  163000.000000  \n",
       "75%               NaN  214000.000000  \n",
       "max               NaN  755000.000000  \n",
       "\n",
       "[11 rows x 81 columns]"
      ],
      "text/html": "<div>\n<style scoped>\n    .dataframe tbody tr th:only-of-type {\n        vertical-align: middle;\n    }\n\n    .dataframe tbody tr th {\n        vertical-align: top;\n    }\n\n    .dataframe thead th {\n        text-align: right;\n    }\n</style>\n<table border=\"1\" class=\"dataframe\">\n  <thead>\n    <tr style=\"text-align: right;\">\n      <th></th>\n      <th>Id</th>\n      <th>MSSubClass</th>\n      <th>MSZoning</th>\n      <th>LotFrontage</th>\n      <th>LotArea</th>\n      <th>Street</th>\n      <th>Alley</th>\n      <th>LotShape</th>\n      <th>LandContour</th>\n      <th>Utilities</th>\n      <th>...</th>\n      <th>PoolArea</th>\n      <th>PoolQC</th>\n      <th>Fence</th>\n      <th>MiscFeature</th>\n      <th>MiscVal</th>\n      <th>MoSold</th>\n      <th>YrSold</th>\n      <th>SaleType</th>\n      <th>SaleCondition</th>\n      <th>SalePrice</th>\n    </tr>\n  </thead>\n  <tbody>\n    <tr>\n      <td>count</td>\n      <td>1460.000000</td>\n      <td>1460.000000</td>\n      <td>1460</td>\n      <td>1201.000000</td>\n      <td>1460.000000</td>\n      <td>1460</td>\n      <td>91</td>\n      <td>1460</td>\n      <td>1460</td>\n      <td>1460</td>\n      <td>...</td>\n      <td>1460.000000</td>\n      <td>7</td>\n      <td>281</td>\n      <td>54</td>\n      <td>1460.000000</td>\n      <td>1460.000000</td>\n      <td>1460.000000</td>\n      <td>1460</td>\n      <td>1460</td>\n      <td>1460.000000</td>\n    </tr>\n    <tr>\n      <td>unique</td>\n      <td>NaN</td>\n      <td>NaN</td>\n      <td>5</td>\n      <td>NaN</td>\n      <td>NaN</td>\n      <td>2</td>\n      <td>2</td>\n      <td>4</td>\n      <td>4</td>\n      <td>2</td>\n      <td>...</td>\n      <td>NaN</td>\n      <td>3</td>\n      <td>4</td>\n      <td>4</td>\n      <td>NaN</td>\n      <td>NaN</td>\n      <td>NaN</td>\n      <td>9</td>\n      <td>6</td>\n      <td>NaN</td>\n    </tr>\n    <tr>\n      <td>top</td>\n      <td>NaN</td>\n      <td>NaN</td>\n      <td>RL</td>\n      <td>NaN</td>\n      <td>NaN</td>\n      <td>Pave</td>\n      <td>Grvl</td>\n      <td>Reg</td>\n      <td>Lvl</td>\n      <td>AllPub</td>\n      <td>...</td>\n      <td>NaN</td>\n      <td>Gd</td>\n      <td>MnPrv</td>\n      <td>Shed</td>\n      <td>NaN</td>\n      <td>NaN</td>\n      <td>NaN</td>\n      <td>WD</td>\n      <td>Normal</td>\n      <td>NaN</td>\n    </tr>\n    <tr>\n      <td>freq</td>\n      <td>NaN</td>\n      <td>NaN</td>\n      <td>1151</td>\n      <td>NaN</td>\n      <td>NaN</td>\n      <td>1454</td>\n      <td>50</td>\n      <td>925</td>\n      <td>1311</td>\n      <td>1459</td>\n      <td>...</td>\n      <td>NaN</td>\n      <td>3</td>\n      <td>157</td>\n      <td>49</td>\n      <td>NaN</td>\n      <td>NaN</td>\n      <td>NaN</td>\n      <td>1267</td>\n      <td>1198</td>\n      <td>NaN</td>\n    </tr>\n    <tr>\n      <td>mean</td>\n      <td>730.500000</td>\n      <td>56.897260</td>\n      <td>NaN</td>\n      <td>70.049958</td>\n      <td>10516.828082</td>\n      <td>NaN</td>\n      <td>NaN</td>\n      <td>NaN</td>\n      <td>NaN</td>\n      <td>NaN</td>\n      <td>...</td>\n      <td>2.758904</td>\n      <td>NaN</td>\n      <td>NaN</td>\n      <td>NaN</td>\n      <td>43.489041</td>\n      <td>6.321918</td>\n      <td>2007.815753</td>\n      <td>NaN</td>\n      <td>NaN</td>\n      <td>180921.195890</td>\n    </tr>\n    <tr>\n      <td>std</td>\n      <td>421.610009</td>\n      <td>42.300571</td>\n      <td>NaN</td>\n      <td>24.284752</td>\n      <td>9981.264932</td>\n      <td>NaN</td>\n      <td>NaN</td>\n      <td>NaN</td>\n      <td>NaN</td>\n      <td>NaN</td>\n      <td>...</td>\n      <td>40.177307</td>\n      <td>NaN</td>\n      <td>NaN</td>\n      <td>NaN</td>\n      <td>496.123024</td>\n      <td>2.703626</td>\n      <td>1.328095</td>\n      <td>NaN</td>\n      <td>NaN</td>\n      <td>79442.502883</td>\n    </tr>\n    <tr>\n      <td>min</td>\n      <td>1.000000</td>\n      <td>20.000000</td>\n      <td>NaN</td>\n      <td>21.000000</td>\n      <td>1300.000000</td>\n      <td>NaN</td>\n      <td>NaN</td>\n      <td>NaN</td>\n      <td>NaN</td>\n      <td>NaN</td>\n      <td>...</td>\n      <td>0.000000</td>\n      <td>NaN</td>\n      <td>NaN</td>\n      <td>NaN</td>\n      <td>0.000000</td>\n      <td>1.000000</td>\n      <td>2006.000000</td>\n      <td>NaN</td>\n      <td>NaN</td>\n      <td>34900.000000</td>\n    </tr>\n    <tr>\n      <td>25%</td>\n      <td>365.750000</td>\n      <td>20.000000</td>\n      <td>NaN</td>\n      <td>59.000000</td>\n      <td>7553.500000</td>\n      <td>NaN</td>\n      <td>NaN</td>\n      <td>NaN</td>\n      <td>NaN</td>\n      <td>NaN</td>\n      <td>...</td>\n      <td>0.000000</td>\n      <td>NaN</td>\n      <td>NaN</td>\n      <td>NaN</td>\n      <td>0.000000</td>\n      <td>5.000000</td>\n      <td>2007.000000</td>\n      <td>NaN</td>\n      <td>NaN</td>\n      <td>129975.000000</td>\n    </tr>\n    <tr>\n      <td>50%</td>\n      <td>730.500000</td>\n      <td>50.000000</td>\n      <td>NaN</td>\n      <td>69.000000</td>\n      <td>9478.500000</td>\n      <td>NaN</td>\n      <td>NaN</td>\n      <td>NaN</td>\n      <td>NaN</td>\n      <td>NaN</td>\n      <td>...</td>\n      <td>0.000000</td>\n      <td>NaN</td>\n      <td>NaN</td>\n      <td>NaN</td>\n      <td>0.000000</td>\n      <td>6.000000</td>\n      <td>2008.000000</td>\n      <td>NaN</td>\n      <td>NaN</td>\n      <td>163000.000000</td>\n    </tr>\n    <tr>\n      <td>75%</td>\n      <td>1095.250000</td>\n      <td>70.000000</td>\n      <td>NaN</td>\n      <td>80.000000</td>\n      <td>11601.500000</td>\n      <td>NaN</td>\n      <td>NaN</td>\n      <td>NaN</td>\n      <td>NaN</td>\n      <td>NaN</td>\n      <td>...</td>\n      <td>0.000000</td>\n      <td>NaN</td>\n      <td>NaN</td>\n      <td>NaN</td>\n      <td>0.000000</td>\n      <td>8.000000</td>\n      <td>2009.000000</td>\n      <td>NaN</td>\n      <td>NaN</td>\n      <td>214000.000000</td>\n    </tr>\n    <tr>\n      <td>max</td>\n      <td>1460.000000</td>\n      <td>190.000000</td>\n      <td>NaN</td>\n      <td>313.000000</td>\n      <td>215245.000000</td>\n      <td>NaN</td>\n      <td>NaN</td>\n      <td>NaN</td>\n      <td>NaN</td>\n      <td>NaN</td>\n      <td>...</td>\n      <td>738.000000</td>\n      <td>NaN</td>\n      <td>NaN</td>\n      <td>NaN</td>\n      <td>15500.000000</td>\n      <td>12.000000</td>\n      <td>2010.000000</td>\n      <td>NaN</td>\n      <td>NaN</td>\n      <td>755000.000000</td>\n    </tr>\n  </tbody>\n</table>\n<p>11 rows × 81 columns</p>\n</div>"
     },
     "metadata": {},
     "execution_count": 72
    }
   ],
   "source": [
    "df_train.describe(include='all')"
   ]
  },
  {
   "cell_type": "code",
   "execution_count": 73,
   "metadata": {},
   "outputs": [
    {
     "output_type": "execute_result",
     "data": {
      "text/plain": [
       "                Id   MSSubClass  LotFrontage        LotArea  OverallQual  \\\n",
       "count  1460.000000  1460.000000  1201.000000    1460.000000  1460.000000   \n",
       "mean    730.500000    56.897260    70.049958   10516.828082     6.099315   \n",
       "std     421.610009    42.300571    24.284752    9981.264932     1.382997   \n",
       "min       1.000000    20.000000    21.000000    1300.000000     1.000000   \n",
       "25%     365.750000    20.000000    59.000000    7553.500000     5.000000   \n",
       "50%     730.500000    50.000000    69.000000    9478.500000     6.000000   \n",
       "75%    1095.250000    70.000000    80.000000   11601.500000     7.000000   \n",
       "max    1460.000000   190.000000   313.000000  215245.000000    10.000000   \n",
       "\n",
       "       OverallCond    YearBuilt  YearRemodAdd   MasVnrArea   BsmtFinSF1  ...  \\\n",
       "count  1460.000000  1460.000000   1460.000000  1452.000000  1460.000000  ...   \n",
       "mean      5.575342  1971.267808   1984.865753   103.685262   443.639726  ...   \n",
       "std       1.112799    30.202904     20.645407   181.066207   456.098091  ...   \n",
       "min       1.000000  1872.000000   1950.000000     0.000000     0.000000  ...   \n",
       "25%       5.000000  1954.000000   1967.000000     0.000000     0.000000  ...   \n",
       "50%       5.000000  1973.000000   1994.000000     0.000000   383.500000  ...   \n",
       "75%       6.000000  2000.000000   2004.000000   166.000000   712.250000  ...   \n",
       "max       9.000000  2010.000000   2010.000000  1600.000000  5644.000000  ...   \n",
       "\n",
       "        WoodDeckSF  OpenPorchSF  EnclosedPorch    3SsnPorch  ScreenPorch  \\\n",
       "count  1460.000000  1460.000000    1460.000000  1460.000000  1460.000000   \n",
       "mean     94.244521    46.660274      21.954110     3.409589    15.060959   \n",
       "std     125.338794    66.256028      61.119149    29.317331    55.757415   \n",
       "min       0.000000     0.000000       0.000000     0.000000     0.000000   \n",
       "25%       0.000000     0.000000       0.000000     0.000000     0.000000   \n",
       "50%       0.000000    25.000000       0.000000     0.000000     0.000000   \n",
       "75%     168.000000    68.000000       0.000000     0.000000     0.000000   \n",
       "max     857.000000   547.000000     552.000000   508.000000   480.000000   \n",
       "\n",
       "          PoolArea       MiscVal       MoSold       YrSold      SalePrice  \n",
       "count  1460.000000   1460.000000  1460.000000  1460.000000    1460.000000  \n",
       "mean      2.758904     43.489041     6.321918  2007.815753  180921.195890  \n",
       "std      40.177307    496.123024     2.703626     1.328095   79442.502883  \n",
       "min       0.000000      0.000000     1.000000  2006.000000   34900.000000  \n",
       "25%       0.000000      0.000000     5.000000  2007.000000  129975.000000  \n",
       "50%       0.000000      0.000000     6.000000  2008.000000  163000.000000  \n",
       "75%       0.000000      0.000000     8.000000  2009.000000  214000.000000  \n",
       "max     738.000000  15500.000000    12.000000  2010.000000  755000.000000  \n",
       "\n",
       "[8 rows x 38 columns]"
      ],
      "text/html": "<div>\n<style scoped>\n    .dataframe tbody tr th:only-of-type {\n        vertical-align: middle;\n    }\n\n    .dataframe tbody tr th {\n        vertical-align: top;\n    }\n\n    .dataframe thead th {\n        text-align: right;\n    }\n</style>\n<table border=\"1\" class=\"dataframe\">\n  <thead>\n    <tr style=\"text-align: right;\">\n      <th></th>\n      <th>Id</th>\n      <th>MSSubClass</th>\n      <th>LotFrontage</th>\n      <th>LotArea</th>\n      <th>OverallQual</th>\n      <th>OverallCond</th>\n      <th>YearBuilt</th>\n      <th>YearRemodAdd</th>\n      <th>MasVnrArea</th>\n      <th>BsmtFinSF1</th>\n      <th>...</th>\n      <th>WoodDeckSF</th>\n      <th>OpenPorchSF</th>\n      <th>EnclosedPorch</th>\n      <th>3SsnPorch</th>\n      <th>ScreenPorch</th>\n      <th>PoolArea</th>\n      <th>MiscVal</th>\n      <th>MoSold</th>\n      <th>YrSold</th>\n      <th>SalePrice</th>\n    </tr>\n  </thead>\n  <tbody>\n    <tr>\n      <td>count</td>\n      <td>1460.000000</td>\n      <td>1460.000000</td>\n      <td>1201.000000</td>\n      <td>1460.000000</td>\n      <td>1460.000000</td>\n      <td>1460.000000</td>\n      <td>1460.000000</td>\n      <td>1460.000000</td>\n      <td>1452.000000</td>\n      <td>1460.000000</td>\n      <td>...</td>\n      <td>1460.000000</td>\n      <td>1460.000000</td>\n      <td>1460.000000</td>\n      <td>1460.000000</td>\n      <td>1460.000000</td>\n      <td>1460.000000</td>\n      <td>1460.000000</td>\n      <td>1460.000000</td>\n      <td>1460.000000</td>\n      <td>1460.000000</td>\n    </tr>\n    <tr>\n      <td>mean</td>\n      <td>730.500000</td>\n      <td>56.897260</td>\n      <td>70.049958</td>\n      <td>10516.828082</td>\n      <td>6.099315</td>\n      <td>5.575342</td>\n      <td>1971.267808</td>\n      <td>1984.865753</td>\n      <td>103.685262</td>\n      <td>443.639726</td>\n      <td>...</td>\n      <td>94.244521</td>\n      <td>46.660274</td>\n      <td>21.954110</td>\n      <td>3.409589</td>\n      <td>15.060959</td>\n      <td>2.758904</td>\n      <td>43.489041</td>\n      <td>6.321918</td>\n      <td>2007.815753</td>\n      <td>180921.195890</td>\n    </tr>\n    <tr>\n      <td>std</td>\n      <td>421.610009</td>\n      <td>42.300571</td>\n      <td>24.284752</td>\n      <td>9981.264932</td>\n      <td>1.382997</td>\n      <td>1.112799</td>\n      <td>30.202904</td>\n      <td>20.645407</td>\n      <td>181.066207</td>\n      <td>456.098091</td>\n      <td>...</td>\n      <td>125.338794</td>\n      <td>66.256028</td>\n      <td>61.119149</td>\n      <td>29.317331</td>\n      <td>55.757415</td>\n      <td>40.177307</td>\n      <td>496.123024</td>\n      <td>2.703626</td>\n      <td>1.328095</td>\n      <td>79442.502883</td>\n    </tr>\n    <tr>\n      <td>min</td>\n      <td>1.000000</td>\n      <td>20.000000</td>\n      <td>21.000000</td>\n      <td>1300.000000</td>\n      <td>1.000000</td>\n      <td>1.000000</td>\n      <td>1872.000000</td>\n      <td>1950.000000</td>\n      <td>0.000000</td>\n      <td>0.000000</td>\n      <td>...</td>\n      <td>0.000000</td>\n      <td>0.000000</td>\n      <td>0.000000</td>\n      <td>0.000000</td>\n      <td>0.000000</td>\n      <td>0.000000</td>\n      <td>0.000000</td>\n      <td>1.000000</td>\n      <td>2006.000000</td>\n      <td>34900.000000</td>\n    </tr>\n    <tr>\n      <td>25%</td>\n      <td>365.750000</td>\n      <td>20.000000</td>\n      <td>59.000000</td>\n      <td>7553.500000</td>\n      <td>5.000000</td>\n      <td>5.000000</td>\n      <td>1954.000000</td>\n      <td>1967.000000</td>\n      <td>0.000000</td>\n      <td>0.000000</td>\n      <td>...</td>\n      <td>0.000000</td>\n      <td>0.000000</td>\n      <td>0.000000</td>\n      <td>0.000000</td>\n      <td>0.000000</td>\n      <td>0.000000</td>\n      <td>0.000000</td>\n      <td>5.000000</td>\n      <td>2007.000000</td>\n      <td>129975.000000</td>\n    </tr>\n    <tr>\n      <td>50%</td>\n      <td>730.500000</td>\n      <td>50.000000</td>\n      <td>69.000000</td>\n      <td>9478.500000</td>\n      <td>6.000000</td>\n      <td>5.000000</td>\n      <td>1973.000000</td>\n      <td>1994.000000</td>\n      <td>0.000000</td>\n      <td>383.500000</td>\n      <td>...</td>\n      <td>0.000000</td>\n      <td>25.000000</td>\n      <td>0.000000</td>\n      <td>0.000000</td>\n      <td>0.000000</td>\n      <td>0.000000</td>\n      <td>0.000000</td>\n      <td>6.000000</td>\n      <td>2008.000000</td>\n      <td>163000.000000</td>\n    </tr>\n    <tr>\n      <td>75%</td>\n      <td>1095.250000</td>\n      <td>70.000000</td>\n      <td>80.000000</td>\n      <td>11601.500000</td>\n      <td>7.000000</td>\n      <td>6.000000</td>\n      <td>2000.000000</td>\n      <td>2004.000000</td>\n      <td>166.000000</td>\n      <td>712.250000</td>\n      <td>...</td>\n      <td>168.000000</td>\n      <td>68.000000</td>\n      <td>0.000000</td>\n      <td>0.000000</td>\n      <td>0.000000</td>\n      <td>0.000000</td>\n      <td>0.000000</td>\n      <td>8.000000</td>\n      <td>2009.000000</td>\n      <td>214000.000000</td>\n    </tr>\n    <tr>\n      <td>max</td>\n      <td>1460.000000</td>\n      <td>190.000000</td>\n      <td>313.000000</td>\n      <td>215245.000000</td>\n      <td>10.000000</td>\n      <td>9.000000</td>\n      <td>2010.000000</td>\n      <td>2010.000000</td>\n      <td>1600.000000</td>\n      <td>5644.000000</td>\n      <td>...</td>\n      <td>857.000000</td>\n      <td>547.000000</td>\n      <td>552.000000</td>\n      <td>508.000000</td>\n      <td>480.000000</td>\n      <td>738.000000</td>\n      <td>15500.000000</td>\n      <td>12.000000</td>\n      <td>2010.000000</td>\n      <td>755000.000000</td>\n    </tr>\n  </tbody>\n</table>\n<p>8 rows × 38 columns</p>\n</div>"
     },
     "metadata": {},
     "execution_count": 73
    }
   ],
   "source": [
    "df_train.describe(include=np.number)"
   ]
  },
  {
   "cell_type": "code",
   "execution_count": 74,
   "metadata": {},
   "outputs": [
    {
     "output_type": "execute_result",
     "data": {
      "text/plain": [
       "       MSZoning Street Alley LotShape LandContour Utilities LotConfig  \\\n",
       "count      1460   1460    91     1460        1460      1460      1460   \n",
       "unique        5      2     2        4           4         2         5   \n",
       "top          RL   Pave  Grvl      Reg         Lvl    AllPub    Inside   \n",
       "freq       1151   1454    50      925        1311      1459      1052   \n",
       "\n",
       "       LandSlope Neighborhood Condition1  ... GarageType GarageFinish  \\\n",
       "count       1460         1460       1460  ...       1379         1379   \n",
       "unique         3           25          9  ...          6            3   \n",
       "top          Gtl        NAmes       Norm  ...     Attchd          Unf   \n",
       "freq        1382          225       1260  ...        870          605   \n",
       "\n",
       "       GarageQual GarageCond PavedDrive PoolQC  Fence MiscFeature SaleType  \\\n",
       "count        1379       1379       1460      7    281          54     1460   \n",
       "unique          5          5          3      3      4           4        9   \n",
       "top            TA         TA          Y     Gd  MnPrv        Shed       WD   \n",
       "freq         1311       1326       1340      3    157          49     1267   \n",
       "\n",
       "       SaleCondition  \n",
       "count           1460  \n",
       "unique             6  \n",
       "top           Normal  \n",
       "freq            1198  \n",
       "\n",
       "[4 rows x 43 columns]"
      ],
      "text/html": "<div>\n<style scoped>\n    .dataframe tbody tr th:only-of-type {\n        vertical-align: middle;\n    }\n\n    .dataframe tbody tr th {\n        vertical-align: top;\n    }\n\n    .dataframe thead th {\n        text-align: right;\n    }\n</style>\n<table border=\"1\" class=\"dataframe\">\n  <thead>\n    <tr style=\"text-align: right;\">\n      <th></th>\n      <th>MSZoning</th>\n      <th>Street</th>\n      <th>Alley</th>\n      <th>LotShape</th>\n      <th>LandContour</th>\n      <th>Utilities</th>\n      <th>LotConfig</th>\n      <th>LandSlope</th>\n      <th>Neighborhood</th>\n      <th>Condition1</th>\n      <th>...</th>\n      <th>GarageType</th>\n      <th>GarageFinish</th>\n      <th>GarageQual</th>\n      <th>GarageCond</th>\n      <th>PavedDrive</th>\n      <th>PoolQC</th>\n      <th>Fence</th>\n      <th>MiscFeature</th>\n      <th>SaleType</th>\n      <th>SaleCondition</th>\n    </tr>\n  </thead>\n  <tbody>\n    <tr>\n      <td>count</td>\n      <td>1460</td>\n      <td>1460</td>\n      <td>91</td>\n      <td>1460</td>\n      <td>1460</td>\n      <td>1460</td>\n      <td>1460</td>\n      <td>1460</td>\n      <td>1460</td>\n      <td>1460</td>\n      <td>...</td>\n      <td>1379</td>\n      <td>1379</td>\n      <td>1379</td>\n      <td>1379</td>\n      <td>1460</td>\n      <td>7</td>\n      <td>281</td>\n      <td>54</td>\n      <td>1460</td>\n      <td>1460</td>\n    </tr>\n    <tr>\n      <td>unique</td>\n      <td>5</td>\n      <td>2</td>\n      <td>2</td>\n      <td>4</td>\n      <td>4</td>\n      <td>2</td>\n      <td>5</td>\n      <td>3</td>\n      <td>25</td>\n      <td>9</td>\n      <td>...</td>\n      <td>6</td>\n      <td>3</td>\n      <td>5</td>\n      <td>5</td>\n      <td>3</td>\n      <td>3</td>\n      <td>4</td>\n      <td>4</td>\n      <td>9</td>\n      <td>6</td>\n    </tr>\n    <tr>\n      <td>top</td>\n      <td>RL</td>\n      <td>Pave</td>\n      <td>Grvl</td>\n      <td>Reg</td>\n      <td>Lvl</td>\n      <td>AllPub</td>\n      <td>Inside</td>\n      <td>Gtl</td>\n      <td>NAmes</td>\n      <td>Norm</td>\n      <td>...</td>\n      <td>Attchd</td>\n      <td>Unf</td>\n      <td>TA</td>\n      <td>TA</td>\n      <td>Y</td>\n      <td>Gd</td>\n      <td>MnPrv</td>\n      <td>Shed</td>\n      <td>WD</td>\n      <td>Normal</td>\n    </tr>\n    <tr>\n      <td>freq</td>\n      <td>1151</td>\n      <td>1454</td>\n      <td>50</td>\n      <td>925</td>\n      <td>1311</td>\n      <td>1459</td>\n      <td>1052</td>\n      <td>1382</td>\n      <td>225</td>\n      <td>1260</td>\n      <td>...</td>\n      <td>870</td>\n      <td>605</td>\n      <td>1311</td>\n      <td>1326</td>\n      <td>1340</td>\n      <td>3</td>\n      <td>157</td>\n      <td>49</td>\n      <td>1267</td>\n      <td>1198</td>\n    </tr>\n  </tbody>\n</table>\n<p>4 rows × 43 columns</p>\n</div>"
     },
     "metadata": {},
     "execution_count": 74
    }
   ],
   "source": [
    "# df_train.describe(exclude =np.number)\n",
    "df_train.describe(include= [object,'category'])"
   ]
  },
  {
   "cell_type": "code",
   "execution_count": 75,
   "metadata": {},
   "outputs": [
    {
     "output_type": "stream",
     "name": "stdout",
     "text": [
      "<class 'pandas.core.frame.DataFrame'>\nRangeIndex: 1460 entries, 0 to 1459\nData columns (total 81 columns):\nId               1460 non-null int64\nMSSubClass       1460 non-null int64\nMSZoning         1460 non-null object\nLotFrontage      1201 non-null float64\nLotArea          1460 non-null int64\nStreet           1460 non-null object\nAlley            91 non-null object\nLotShape         1460 non-null object\nLandContour      1460 non-null object\nUtilities        1460 non-null object\nLotConfig        1460 non-null object\nLandSlope        1460 non-null object\nNeighborhood     1460 non-null object\nCondition1       1460 non-null object\nCondition2       1460 non-null object\nBldgType         1460 non-null object\nHouseStyle       1460 non-null object\nOverallQual      1460 non-null int64\nOverallCond      1460 non-null int64\nYearBuilt        1460 non-null int64\nYearRemodAdd     1460 non-null int64\nRoofStyle        1460 non-null object\nRoofMatl         1460 non-null object\nExterior1st      1460 non-null object\nExterior2nd      1460 non-null object\nMasVnrType       1452 non-null object\nMasVnrArea       1452 non-null float64\nExterQual        1460 non-null object\nExterCond        1460 non-null object\nFoundation       1460 non-null object\nBsmtQual         1423 non-null object\nBsmtCond         1423 non-null object\nBsmtExposure     1422 non-null object\nBsmtFinType1     1423 non-null object\nBsmtFinSF1       1460 non-null int64\nBsmtFinType2     1422 non-null object\nBsmtFinSF2       1460 non-null int64\nBsmtUnfSF        1460 non-null int64\nTotalBsmtSF      1460 non-null int64\nHeating          1460 non-null object\nHeatingQC        1460 non-null object\nCentralAir       1460 non-null object\nElectrical       1459 non-null object\n1stFlrSF         1460 non-null int64\n2ndFlrSF         1460 non-null int64\nLowQualFinSF     1460 non-null int64\nGrLivArea        1460 non-null int64\nBsmtFullBath     1460 non-null int64\nBsmtHalfBath     1460 non-null int64\nFullBath         1460 non-null int64\nHalfBath         1460 non-null int64\nBedroomAbvGr     1460 non-null int64\nKitchenAbvGr     1460 non-null int64\nKitchenQual      1460 non-null object\nTotRmsAbvGrd     1460 non-null int64\nFunctional       1460 non-null object\nFireplaces       1460 non-null int64\nFireplaceQu      770 non-null object\nGarageType       1379 non-null object\nGarageYrBlt      1379 non-null float64\nGarageFinish     1379 non-null object\nGarageCars       1460 non-null int64\nGarageArea       1460 non-null int64\nGarageQual       1379 non-null object\nGarageCond       1379 non-null object\nPavedDrive       1460 non-null object\nWoodDeckSF       1460 non-null int64\nOpenPorchSF      1460 non-null int64\nEnclosedPorch    1460 non-null int64\n3SsnPorch        1460 non-null int64\nScreenPorch      1460 non-null int64\nPoolArea         1460 non-null int64\nPoolQC           7 non-null object\nFence            281 non-null object\nMiscFeature      54 non-null object\nMiscVal          1460 non-null int64\nMoSold           1460 non-null int64\nYrSold           1460 non-null int64\nSaleType         1460 non-null object\nSaleCondition    1460 non-null object\nSalePrice        1460 non-null int64\ndtypes: float64(3), int64(35), object(43)\nmemory usage: 924.0+ KB\n"
     ]
    }
   ],
   "source": [
    "df_train.info()"
   ]
  },
  {
   "source": [
    "## Finding and Managing Null values\n",
    "\n",
    "### Finding Nulls"
   ],
   "cell_type": "markdown",
   "metadata": {}
  },
  {
   "cell_type": "code",
   "execution_count": 76,
   "metadata": {},
   "outputs": [],
   "source": [
    "#sns.heatmap(df_train.isnull(),yticklabels=False,cbar=False)\n",
    "# plt.show()"
   ]
  },
  {
   "cell_type": "code",
   "execution_count": 77,
   "metadata": {},
   "outputs": [],
   "source": [
    "nulls = df_train.isnull().sum().sort_values(ascending=False)[:19].to_frame()\n",
    "#nulls"
   ]
  },
  {
   "source": [
    "### Managing Nulls"
   ],
   "cell_type": "markdown",
   "metadata": {}
  },
  {
   "cell_type": "code",
   "execution_count": 78,
   "metadata": {},
   "outputs": [],
   "source": [
    "def fillndrop(x,parameter,df,manual=None):\n",
    "    \"\"\"input is a list of column title, and if you want the mean, mode, or drop. \n",
    "    After replacing columns with nulls, function will drop remaining values\n",
    "    \"\"\"\n",
    "    if parameter == 'mode':\n",
    "        for i in x:\n",
    "            df[i] = df[i].fillna(df[i].mode()[0])\n",
    "    if parameter == 'mean':\n",
    "        for i in x:\n",
    "            df[i] = df[i].fillna(df[i].mean())\n",
    "    if parameter == 'drop':\n",
    "        for i in x:\n",
    "            if i not in df:\n",
    "                break\n",
    "            else:\n",
    "                df.drop(i,axis=1,inplace=True)\n",
    "    if parameter == 'manual':\n",
    "        for i in x:\n",
    "            df[i] = df[i].fillna(manual)"
   ]
  },
  {
   "cell_type": "code",
   "execution_count": 79,
   "metadata": {},
   "outputs": [],
   "source": [
    "#nulls.index.to_list()"
   ]
  },
  {
   "cell_type": "code",
   "execution_count": 80,
   "metadata": {},
   "outputs": [],
   "source": [
    "# df_train['Electrical'].unique()"
   ]
  },
  {
   "cell_type": "code",
   "execution_count": 81,
   "metadata": {},
   "outputs": [],
   "source": [
    "#df_train['GarageYrBlt'].value_counts()"
   ]
  },
  {
   "cell_type": "code",
   "execution_count": 82,
   "metadata": {},
   "outputs": [],
   "source": [
    "# manual fill NA\n",
    "fillndrop(['PoolQC','MiscFeature','Alley','Fence','FireplaceQu', 'GarageCond','GarageType','GarageFinish','GarageQual','BsmtExposure','BsmtFinType2','BsmtFinType1','BsmtCond','BsmtQual',],'manual',df_train,manual='None')"
   ]
  },
  {
   "cell_type": "code",
   "execution_count": 83,
   "metadata": {},
   "outputs": [],
   "source": [
    "# mean fill\n",
    "fillndrop(['LotFrontage',],'mean',df_train)"
   ]
  },
  {
   "cell_type": "code",
   "execution_count": 84,
   "metadata": {},
   "outputs": [],
   "source": [
    "# mode fill\n",
    "fillndrop(['MasVnrType','MasVnrArea','Electrical',],'mode',df_train)"
   ]
  },
  {
   "cell_type": "code",
   "execution_count": 85,
   "metadata": {},
   "outputs": [],
   "source": [
    "# drop variable\n",
    "fillndrop(['GarageYrBlt','Id'],'drop',df_train)"
   ]
  },
  {
   "cell_type": "code",
   "execution_count": 86,
   "metadata": {},
   "outputs": [
    {
     "output_type": "stream",
     "name": "stdout",
     "text": [
      "<class 'pandas.core.frame.DataFrame'>\nRangeIndex: 1460 entries, 0 to 1459\nData columns (total 79 columns):\nMSSubClass       1460 non-null int64\nMSZoning         1460 non-null object\nLotFrontage      1460 non-null float64\nLotArea          1460 non-null int64\nStreet           1460 non-null object\nAlley            1460 non-null object\nLotShape         1460 non-null object\nLandContour      1460 non-null object\nUtilities        1460 non-null object\nLotConfig        1460 non-null object\nLandSlope        1460 non-null object\nNeighborhood     1460 non-null object\nCondition1       1460 non-null object\nCondition2       1460 non-null object\nBldgType         1460 non-null object\nHouseStyle       1460 non-null object\nOverallQual      1460 non-null int64\nOverallCond      1460 non-null int64\nYearBuilt        1460 non-null int64\nYearRemodAdd     1460 non-null int64\nRoofStyle        1460 non-null object\nRoofMatl         1460 non-null object\nExterior1st      1460 non-null object\nExterior2nd      1460 non-null object\nMasVnrType       1460 non-null object\nMasVnrArea       1460 non-null float64\nExterQual        1460 non-null object\nExterCond        1460 non-null object\nFoundation       1460 non-null object\nBsmtQual         1460 non-null object\nBsmtCond         1460 non-null object\nBsmtExposure     1460 non-null object\nBsmtFinType1     1460 non-null object\nBsmtFinSF1       1460 non-null int64\nBsmtFinType2     1460 non-null object\nBsmtFinSF2       1460 non-null int64\nBsmtUnfSF        1460 non-null int64\nTotalBsmtSF      1460 non-null int64\nHeating          1460 non-null object\nHeatingQC        1460 non-null object\nCentralAir       1460 non-null object\nElectrical       1460 non-null object\n1stFlrSF         1460 non-null int64\n2ndFlrSF         1460 non-null int64\nLowQualFinSF     1460 non-null int64\nGrLivArea        1460 non-null int64\nBsmtFullBath     1460 non-null int64\nBsmtHalfBath     1460 non-null int64\nFullBath         1460 non-null int64\nHalfBath         1460 non-null int64\nBedroomAbvGr     1460 non-null int64\nKitchenAbvGr     1460 non-null int64\nKitchenQual      1460 non-null object\nTotRmsAbvGrd     1460 non-null int64\nFunctional       1460 non-null object\nFireplaces       1460 non-null int64\nFireplaceQu      1460 non-null object\nGarageType       1460 non-null object\nGarageFinish     1460 non-null object\nGarageCars       1460 non-null int64\nGarageArea       1460 non-null int64\nGarageQual       1460 non-null object\nGarageCond       1460 non-null object\nPavedDrive       1460 non-null object\nWoodDeckSF       1460 non-null int64\nOpenPorchSF      1460 non-null int64\nEnclosedPorch    1460 non-null int64\n3SsnPorch        1460 non-null int64\nScreenPorch      1460 non-null int64\nPoolArea         1460 non-null int64\nPoolQC           1460 non-null object\nFence            1460 non-null object\nMiscFeature      1460 non-null object\nMiscVal          1460 non-null int64\nMoSold           1460 non-null int64\nYrSold           1460 non-null int64\nSaleType         1460 non-null object\nSaleCondition    1460 non-null object\nSalePrice        1460 non-null int64\ndtypes: float64(2), int64(34), object(43)\nmemory usage: 901.2+ KB\n"
     ]
    }
   ],
   "source": [
    "df_train.info()"
   ]
  },
  {
   "cell_type": "code",
   "execution_count": 87,
   "metadata": {},
   "outputs": [
    {
     "output_type": "execute_result",
     "data": {
      "text/plain": [
       "(1460, 79)"
      ]
     },
     "metadata": {},
     "execution_count": 87
    }
   ],
   "source": [
    "df_train.shape"
   ]
  },
  {
   "cell_type": "code",
   "execution_count": 88,
   "metadata": {},
   "outputs": [
    {
     "output_type": "stream",
     "name": "stdout",
     "text": [
      "<class 'pandas.core.frame.DataFrame'>\nRangeIndex: 1459 entries, 0 to 1458\nData columns (total 78 columns):\nMSSubClass       1459 non-null int64\nMSZoning         1459 non-null object\nLotFrontage      1459 non-null float64\nLotArea          1459 non-null int64\nStreet           1459 non-null object\nAlley            1459 non-null object\nLotShape         1459 non-null object\nLandContour      1459 non-null object\nUtilities        1459 non-null object\nLotConfig        1459 non-null object\nLandSlope        1459 non-null object\nNeighborhood     1459 non-null object\nCondition1       1459 non-null object\nCondition2       1459 non-null object\nBldgType         1459 non-null object\nHouseStyle       1459 non-null object\nOverallQual      1459 non-null int64\nOverallCond      1459 non-null int64\nYearBuilt        1459 non-null int64\nYearRemodAdd     1459 non-null int64\nRoofStyle        1459 non-null object\nRoofMatl         1459 non-null object\nExterior1st      1459 non-null object\nExterior2nd      1459 non-null object\nMasVnrType       1459 non-null object\nMasVnrArea       1459 non-null float64\nExterQual        1459 non-null object\nExterCond        1459 non-null object\nFoundation       1459 non-null object\nBsmtQual         1459 non-null object\nBsmtCond         1459 non-null object\nBsmtExposure     1459 non-null object\nBsmtFinType1     1459 non-null object\nBsmtFinSF1       1459 non-null float64\nBsmtFinType2     1459 non-null object\nBsmtFinSF2       1459 non-null float64\nBsmtUnfSF        1459 non-null float64\nTotalBsmtSF      1459 non-null float64\nHeating          1459 non-null object\nHeatingQC        1459 non-null object\nCentralAir       1459 non-null object\nElectrical       1459 non-null object\n1stFlrSF         1459 non-null int64\n2ndFlrSF         1459 non-null int64\nLowQualFinSF     1459 non-null int64\nGrLivArea        1459 non-null int64\nBsmtFullBath     1459 non-null float64\nBsmtHalfBath     1459 non-null float64\nFullBath         1459 non-null int64\nHalfBath         1459 non-null int64\nBedroomAbvGr     1459 non-null int64\nKitchenAbvGr     1459 non-null int64\nKitchenQual      1459 non-null object\nTotRmsAbvGrd     1459 non-null int64\nFunctional       1459 non-null object\nFireplaces       1459 non-null int64\nFireplaceQu      1459 non-null object\nGarageType       1459 non-null object\nGarageFinish     1459 non-null object\nGarageCars       1459 non-null float64\nGarageArea       1459 non-null float64\nGarageQual       1459 non-null object\nGarageCond       1459 non-null object\nPavedDrive       1459 non-null object\nWoodDeckSF       1459 non-null int64\nOpenPorchSF      1459 non-null int64\nEnclosedPorch    1459 non-null int64\n3SsnPorch        1459 non-null int64\nScreenPorch      1459 non-null int64\nPoolArea         1459 non-null int64\nPoolQC           1459 non-null object\nFence            1459 non-null object\nMiscFeature      1459 non-null object\nMiscVal          1459 non-null int64\nMoSold           1459 non-null int64\nYrSold           1459 non-null int64\nSaleType         1459 non-null object\nSaleCondition    1459 non-null object\ndtypes: float64(10), int64(25), object(43)\nmemory usage: 889.2+ KB\n"
     ]
    }
   ],
   "source": [
    "df_test = pd.read_csv('formulatedtest.csv')\n",
    "df_test.info()"
   ]
  },
  {
   "cell_type": "code",
   "execution_count": 89,
   "metadata": {},
   "outputs": [],
   "source": [
    "main_df = df_train.copy()"
   ]
  },
  {
   "cell_type": "code",
   "execution_count": 90,
   "metadata": {},
   "outputs": [],
   "source": [
    "final_df = pd.concat([df_train,df_test], axis=0)"
   ]
  },
  {
   "cell_type": "code",
   "execution_count": 91,
   "metadata": {},
   "outputs": [
    {
     "output_type": "execute_result",
     "data": {
      "text/plain": [
       "(2919, 79)"
      ]
     },
     "metadata": {},
     "execution_count": 91
    }
   ],
   "source": [
    "final_df.shape"
   ]
  },
  {
   "cell_type": "code",
   "execution_count": 92,
   "metadata": {},
   "outputs": [
    {
     "output_type": "execute_result",
     "data": {
      "text/plain": [
       "43"
      ]
     },
     "metadata": {},
     "execution_count": 92
    }
   ],
   "source": [
    "col = df_train.columns.tolist()\n",
    "columns = [i for i in col if type(df_train[i][0]) == str]\n",
    "len(columns)"
   ]
  },
  {
   "cell_type": "code",
   "execution_count": 93,
   "metadata": {},
   "outputs": [],
   "source": [
    "def category_onehot_multcols(multcolumns):\n",
    "    \n",
    "    i=0\n",
    "    for fields in multcolumns:\n",
    "        #prints columns that were hotcoded\n",
    "        print(fields)\n",
    "        df1=pd.get_dummies(final_df[fields],drop_first=True)\n",
    "\n",
    "        final_df.drop([fields],axis=1,inplace=True)\n",
    "\n",
    "        # First hotcoding df_final is replaced with df1\n",
    "        if i==0:\n",
    "            df_final=df1.copy()\n",
    "        \n",
    "        #Subsequent hodcoding df1 is concatinated with df_final\n",
    "        else:\n",
    "            df_final=pd.concat([df_final,df1], axis=1)\n",
    "        \n",
    "        #Adds one to i to show it is not the first hotcode\n",
    "        i=1\n",
    "    \n",
    "    df_final=pd.concat([final_df,df_final],axis=1)\n",
    "\n",
    "    return df_final"
   ]
  },
  {
   "cell_type": "code",
   "execution_count": 94,
   "metadata": {},
   "outputs": [
    {
     "output_type": "stream",
     "name": "stdout",
     "text": [
      "MSZoning\n",
      "Street\n",
      "Alley\n",
      "LotShape\n",
      "LandContour\n",
      "Utilities\n",
      "LotConfig\n",
      "LandSlope\n",
      "Neighborhood\n",
      "Condition1\n",
      "Condition2\n",
      "BldgType\n",
      "HouseStyle\n",
      "RoofStyle\n",
      "RoofMatl\n",
      "Exterior1st\n",
      "Exterior2nd\n",
      "MasVnrType\n",
      "ExterQual\n",
      "ExterCond\n",
      "Foundation\n",
      "BsmtQual\n",
      "BsmtCond\n",
      "BsmtExposure\n",
      "BsmtFinType1\n",
      "BsmtFinType2\n",
      "Heating\n",
      "HeatingQC\n",
      "CentralAir\n",
      "Electrical\n",
      "KitchenQual\n",
      "Functional\n",
      "FireplaceQu\n",
      "GarageType\n",
      "GarageFinish\n",
      "GarageQual\n",
      "GarageCond\n",
      "PavedDrive\n",
      "PoolQC\n",
      "Fence\n",
      "MiscFeature\n",
      "SaleType\n",
      "SaleCondition\n"
     ]
    }
   ],
   "source": [
    "# Uses function to onthot code categorical variables\n",
    "final_df = category_onehot_multcols(columns)"
   ]
  },
  {
   "cell_type": "code",
   "execution_count": 95,
   "metadata": {},
   "outputs": [
    {
     "output_type": "execute_result",
     "data": {
      "text/plain": [
       "(2919, 259)"
      ]
     },
     "metadata": {},
     "execution_count": 95
    }
   ],
   "source": [
    "final_df.shape"
   ]
  },
  {
   "cell_type": "code",
   "execution_count": 96,
   "metadata": {},
   "outputs": [
    {
     "output_type": "execute_result",
     "data": {
      "text/plain": [
       "(2919, 181)"
      ]
     },
     "metadata": {},
     "execution_count": 96
    }
   ],
   "source": [
    "# Removes duplicates\n",
    "final_df = final_df.loc[:,~final_df.columns.duplicated()]\n",
    "final_df.shape"
   ]
  },
  {
   "cell_type": "code",
   "execution_count": 97,
   "metadata": {},
   "outputs": [],
   "source": [
    "# creating new datasets to be used for model\n",
    "# split at 1460 because orginal df_train had 1460 rows and df_test was concatenated under because axis=0\n",
    "df_Train = final_df.iloc[:1460,:]\n",
    "df_Test = final_df.iloc[1460:,:]"
   ]
  },
  {
   "cell_type": "code",
   "execution_count": 98,
   "metadata": {},
   "outputs": [
    {
     "output_type": "execute_result",
     "data": {
      "text/plain": [
       "(1459, 180)"
      ]
     },
     "metadata": {},
     "execution_count": 98
    }
   ],
   "source": [
    "# Need to remove values from df_Test because we don't have values there\n",
    "df_Test.drop(['SalePrice'],axis=1,inplace=True)\n",
    "df_Test.shape"
   ]
  },
  {
   "cell_type": "code",
   "execution_count": 99,
   "metadata": {},
   "outputs": [],
   "source": [
    "#Separating df_Train to two variables so it can model can be trained\n",
    "X_train= df_Train.drop(['SalePrice'],axis=1)\n",
    "y_train= df_Train['SalePrice']"
   ]
  },
  {
   "cell_type": "code",
   "execution_count": 100,
   "metadata": {},
   "outputs": [
    {
     "output_type": "execute_result",
     "data": {
      "text/plain": [
       "XGBRegressor(base_score=0.5, booster='gbtree', colsample_bylevel=1,\n",
       "             colsample_bynode=1, colsample_bytree=1, gamma=0, gpu_id=-1,\n",
       "             importance_type='gain', interaction_constraints='',\n",
       "             learning_rate=0.300000012, max_delta_step=0, max_depth=6,\n",
       "             min_child_weight=1, missing=nan, monotone_constraints='()',\n",
       "             n_estimators=100, n_jobs=8, num_parallel_tree=1,\n",
       "             objective='reg:squarederror', random_state=0, reg_alpha=0,\n",
       "             reg_lambda=1, scale_pos_weight=1, subsample=1, tree_method='exact',\n",
       "             validate_parameters=1, verbosity=None)"
      ]
     },
     "metadata": {},
     "execution_count": 100
    }
   ],
   "source": [
    "# Need to pip instal xgboost first\n",
    "import xgboost\n",
    "classifier =xgboost.XGBRegressor()\n",
    "classifier.fit(X_train,y_train)"
   ]
  },
  {
   "cell_type": "code",
   "execution_count": 101,
   "metadata": {},
   "outputs": [],
   "source": [
    "#from sklearn.ensemble import RandomForestRegressor"
   ]
  },
  {
   "cell_type": "code",
   "execution_count": 102,
   "metadata": {},
   "outputs": [],
   "source": [
    "# save as a pickle file so you don't have to train again\n",
    "import pickle\n",
    "filename = 'finalized_model.pkl'\n",
    "pickle.dump(classifier, open(filename, 'wb'))"
   ]
  },
  {
   "cell_type": "code",
   "execution_count": 103,
   "metadata": {},
   "outputs": [],
   "source": [
    "# Uese xgboost.XGBRegressor() to predict \n",
    "y_pred = classifier.predict(df_Test)"
   ]
  },
  {
   "cell_type": "code",
   "execution_count": 104,
   "metadata": {},
   "outputs": [
    {
     "output_type": "execute_result",
     "data": {
      "text/plain": [
       "array([124910.97, 154325.22, 184097.11, ..., 189692.3 , 108950.95,\n",
       "       235221.44], dtype=float32)"
      ]
     },
     "metadata": {},
     "execution_count": 104
    }
   ],
   "source": [
    "y_pred"
   ]
  },
  {
   "cell_type": "code",
   "execution_count": 105,
   "metadata": {},
   "outputs": [],
   "source": [
    "pred = pd.DataFrame(y_pred)\n",
    "sub_df=pd.read_csv('sample_submission.csv')\n",
    "#pd.concat() axis=1 concats columns together\n",
    "datasets=pd.concat([sub_df['Id'],pred],axis=1)\n",
    "datasets.columns=['Id','SalePrice']\n",
    "datasets.to_csv('submission.csv',index=False)"
   ]
  },
  {
   "source": [
    "## Hyperparameter Optimization"
   ],
   "cell_type": "markdown",
   "metadata": {}
  },
  {
   "cell_type": "code",
   "execution_count": 133,
   "metadata": {},
   "outputs": [],
   "source": [
    "import xgboost\n",
    "regressor = xgboost.XGBRegressor()"
   ]
  },
  {
   "cell_type": "code",
   "execution_count": 134,
   "metadata": {},
   "outputs": [],
   "source": [
    "booster =['gbtree','gblinear']\n",
    "# for boosters options are gbtree, gblinear or dart. gbtree and dart use tree based models while gblinear uses linear functions. default=gbtree\n",
    "base_score = [0.25,0.5,0.75,1]\n",
    "# Intial prediction socore for all instacnce, global bias.For sufficient number of iterations, changing this value will not have too much effect. default = 0.5\n",
    "n_estimators = [100,500,900,1100,1500]\n",
    "#\n",
    "max_depth = [2,3,4,5,9,12]\n",
    "# Maximum depth of a tree. Increasing this value will make the model more complex and more likely to overfit. default = 6 \n",
    "learning_rate = [0.05,0.5,0.15,0.20]\n",
    "# Step size shrinkage used in update to prevents overfitting. After each boosting step, we can directly get the weights of new features, and eta shrinks the feature weights to make the boosting process more conservative. alias= eta default = 0.3\n",
    "min_child_weight = [0.25,0.5,1,2,3]\n",
    "# Minimum sum of instance weight (hessian) needed in a child. Wont parition if leaf node less than min_child. Tge larger min_child_weight is, the more conservative  default = 1\n",
    "\n"
   ]
  },
  {
   "cell_type": "code",
   "execution_count": 135,
   "metadata": {},
   "outputs": [],
   "source": [
    "# Define the grid of hyperparameters to search\n",
    "hyperparameter_grid = {\n",
    "    'n_estimators': n_estimators,\n",
    "    'max_depth' : max_depth,\n",
    "    'learning_rate' : learning_rate,\n",
    "    'min_child_weight' : min_child_weight,\n",
    "    'booster' : booster,\n",
    "    'base_score' : base_score\n",
    "}"
   ]
  },
  {
   "cell_type": "code",
   "execution_count": 142,
   "metadata": {},
   "outputs": [],
   "source": [
    "from sklearn.model_selection import RandomizedSearchCV\n",
    "random_cv = RandomizedSearchCV(\n",
    "            estimator=regressor,\n",
    "            param_distributions= hyperparameter_grid,\n",
    "            cv=5,\n",
    "            n_iter=50, #default= 10\n",
    "            scoring='neg_mean_absolute_error',\n",
    "            n_jobs=1,\n",
    "            verbose= 5,\n",
    "            return_train_score= True,\n",
    "            random_state= 22\n",
    ")"
   ]
  },
  {
   "cell_type": "code",
   "execution_count": 143,
   "metadata": {
    "tags": [
     "outputPrepend"
    ]
   },
   "outputs": [
    {
     "output_type": "stream",
     "name": "stdout",
     "text": [
      "0.2, booster=gblinear, base_score=0.25, score=(train=-17304.677, test=-18344.747), total=   2.4s\n",
      "[CV] n_estimators=1500, min_child_weight=3, max_depth=12, learning_rate=0.2, booster=gblinear, base_score=0.25 \n",
      "[17:04:38] WARNING: C:/Users/Administrator/workspace/xgboost-win64_release_1.3.0/src/learner.cc:541: \n",
      "Parameters: { max_depth, min_child_weight } might not be used.\n",
      "\n",
      "  This may not be accurate due to some parameters are only used in language bindings but\n",
      "  passed down to XGBoost core.  Or some parameters are not used but slip through this\n",
      "  verification. Please open an issue if you find above cases.\n",
      "\n",
      "\n",
      "[CV]  n_estimators=1500, min_child_weight=3, max_depth=12, learning_rate=0.2, booster=gblinear, base_score=0.25, score=(train=-16130.701, test=-21442.614), total=   2.4s\n",
      "[CV] n_estimators=1500, min_child_weight=3, max_depth=12, learning_rate=0.2, booster=gblinear, base_score=0.25 \n",
      "[17:04:41] WARNING: C:/Users/Administrator/workspace/xgboost-win64_release_1.3.0/src/learner.cc:541: \n",
      "Parameters: { max_depth, min_child_weight } might not be used.\n",
      "\n",
      "  This may not be accurate due to some parameters are only used in language bindings but\n",
      "  passed down to XGBoost core.  Or some parameters are not used but slip through this\n",
      "  verification. Please open an issue if you find above cases.\n",
      "\n",
      "\n",
      "[CV]  n_estimators=1500, min_child_weight=3, max_depth=12, learning_rate=0.2, booster=gblinear, base_score=0.25, score=(train=-16310.543, test=-21355.225), total=   2.4s\n",
      "[CV] n_estimators=1500, min_child_weight=3, max_depth=12, learning_rate=0.2, booster=gblinear, base_score=0.25 \n",
      "[17:04:43] WARNING: C:/Users/Administrator/workspace/xgboost-win64_release_1.3.0/src/learner.cc:541: \n",
      "Parameters: { max_depth, min_child_weight } might not be used.\n",
      "\n",
      "  This may not be accurate due to some parameters are only used in language bindings but\n",
      "  passed down to XGBoost core.  Or some parameters are not used but slip through this\n",
      "  verification. Please open an issue if you find above cases.\n",
      "\n",
      "\n",
      "[CV]  n_estimators=1500, min_child_weight=3, max_depth=12, learning_rate=0.2, booster=gblinear, base_score=0.25, score=(train=-16904.073, test=-19637.692), total=   2.4s\n",
      "[CV] n_estimators=1500, min_child_weight=3, max_depth=12, learning_rate=0.2, booster=gblinear, base_score=0.25 \n",
      "[17:04:45] WARNING: C:/Users/Administrator/workspace/xgboost-win64_release_1.3.0/src/learner.cc:541: \n",
      "Parameters: { max_depth, min_child_weight } might not be used.\n",
      "\n",
      "  This may not be accurate due to some parameters are only used in language bindings but\n",
      "  passed down to XGBoost core.  Or some parameters are not used but slip through this\n",
      "  verification. Please open an issue if you find above cases.\n",
      "\n",
      "\n",
      "[CV]  n_estimators=1500, min_child_weight=3, max_depth=12, learning_rate=0.2, booster=gblinear, base_score=0.25, score=(train=-15059.059, test=-21196.118), total=   2.4s\n",
      "[CV] n_estimators=100, min_child_weight=0.25, max_depth=3, learning_rate=0.5, booster=gblinear, base_score=0.5 \n",
      "[17:04:48] WARNING: C:/Users/Administrator/workspace/xgboost-win64_release_1.3.0/src/learner.cc:541: \n",
      "Parameters: { max_depth, min_child_weight } might not be used.\n",
      "\n",
      "  This may not be accurate due to some parameters are only used in language bindings but\n",
      "  passed down to XGBoost core.  Or some parameters are not used but slip through this\n",
      "  verification. Please open an issue if you find above cases.\n",
      "\n",
      "\n",
      "[CV]  n_estimators=100, min_child_weight=0.25, max_depth=3, learning_rate=0.5, booster=gblinear, base_score=0.5, score=(train=-17974.305, test=-18268.021), total=   0.3s\n",
      "[CV] n_estimators=100, min_child_weight=0.25, max_depth=3, learning_rate=0.5, booster=gblinear, base_score=0.5 \n",
      "[17:04:48] WARNING: C:/Users/Administrator/workspace/xgboost-win64_release_1.3.0/src/learner.cc:541: \n",
      "Parameters: { max_depth, min_child_weight } might not be used.\n",
      "\n",
      "  This may not be accurate due to some parameters are only used in language bindings but\n",
      "  passed down to XGBoost core.  Or some parameters are not used but slip through this\n",
      "  verification. Please open an issue if you find above cases.\n",
      "\n",
      "\n",
      "[CV]  n_estimators=100, min_child_weight=0.25, max_depth=3, learning_rate=0.5, booster=gblinear, base_score=0.5, score=(train=-16589.307, test=-21685.823), total=   0.2s\n",
      "[CV] n_estimators=100, min_child_weight=0.25, max_depth=3, learning_rate=0.5, booster=gblinear, base_score=0.5 \n",
      "[17:04:48] WARNING: C:/Users/Administrator/workspace/xgboost-win64_release_1.3.0/src/learner.cc:541: \n",
      "Parameters: { max_depth, min_child_weight } might not be used.\n",
      "\n",
      "  This may not be accurate due to some parameters are only used in language bindings but\n",
      "  passed down to XGBoost core.  Or some parameters are not used but slip through this\n",
      "  verification. Please open an issue if you find above cases.\n",
      "\n",
      "\n",
      "[CV]  n_estimators=100, min_child_weight=0.25, max_depth=3, learning_rate=0.5, booster=gblinear, base_score=0.5, score=(train=-16801.926, test=-21839.049), total=   0.2s\n",
      "[CV] n_estimators=100, min_child_weight=0.25, max_depth=3, learning_rate=0.5, booster=gblinear, base_score=0.5 \n",
      "[17:04:49] WARNING: C:/Users/Administrator/workspace/xgboost-win64_release_1.3.0/src/learner.cc:541: \n",
      "Parameters: { max_depth, min_child_weight } might not be used.\n",
      "\n",
      "  This may not be accurate due to some parameters are only used in language bindings but\n",
      "  passed down to XGBoost core.  Or some parameters are not used but slip through this\n",
      "  verification. Please open an issue if you find above cases.\n",
      "\n",
      "\n",
      "[CV]  n_estimators=100, min_child_weight=0.25, max_depth=3, learning_rate=0.5, booster=gblinear, base_score=0.5, score=(train=-17625.650, test=-19422.546), total=   0.2s\n",
      "[CV] n_estimators=100, min_child_weight=0.25, max_depth=3, learning_rate=0.5, booster=gblinear, base_score=0.5 \n",
      "[17:04:49] WARNING: C:/Users/Administrator/workspace/xgboost-win64_release_1.3.0/src/learner.cc:541: \n",
      "Parameters: { max_depth, min_child_weight } might not be used.\n",
      "\n",
      "  This may not be accurate due to some parameters are only used in language bindings but\n",
      "  passed down to XGBoost core.  Or some parameters are not used but slip through this\n",
      "  verification. Please open an issue if you find above cases.\n",
      "\n",
      "\n",
      "[CV]  n_estimators=100, min_child_weight=0.25, max_depth=3, learning_rate=0.5, booster=gblinear, base_score=0.5, score=(train=-15302.164, test=-21291.846), total=   0.2s\n",
      "[CV] n_estimators=500, min_child_weight=3, max_depth=5, learning_rate=0.05, booster=gbtree, base_score=1 \n",
      "[CV]  n_estimators=500, min_child_weight=3, max_depth=5, learning_rate=0.05, booster=gbtree, base_score=1, score=(train=-2928.381, test=-15320.237), total=   2.5s\n",
      "[CV] n_estimators=500, min_child_weight=3, max_depth=5, learning_rate=0.05, booster=gbtree, base_score=1 \n",
      "[CV]  n_estimators=500, min_child_weight=3, max_depth=5, learning_rate=0.05, booster=gbtree, base_score=1, score=(train=-2877.582, test=-16106.978), total=   2.5s\n",
      "[CV] n_estimators=500, min_child_weight=3, max_depth=5, learning_rate=0.05, booster=gbtree, base_score=1 \n",
      "[CV]  n_estimators=500, min_child_weight=3, max_depth=5, learning_rate=0.05, booster=gbtree, base_score=1, score=(train=-2853.222, test=-16675.112), total=   2.5s\n",
      "[CV] n_estimators=500, min_child_weight=3, max_depth=5, learning_rate=0.05, booster=gbtree, base_score=1 \n",
      "[CV]  n_estimators=500, min_child_weight=3, max_depth=5, learning_rate=0.05, booster=gbtree, base_score=1, score=(train=-2956.168, test=-13641.364), total=   2.5s\n",
      "[CV] n_estimators=500, min_child_weight=3, max_depth=5, learning_rate=0.05, booster=gbtree, base_score=1 \n",
      "[CV]  n_estimators=500, min_child_weight=3, max_depth=5, learning_rate=0.05, booster=gbtree, base_score=1, score=(train=-3007.737, test=-17091.769), total=   2.6s\n",
      "[CV] n_estimators=1100, min_child_weight=0.5, max_depth=4, learning_rate=0.5, booster=gbtree, base_score=0.75 \n",
      "[CV]  n_estimators=1100, min_child_weight=0.5, max_depth=4, learning_rate=0.5, booster=gbtree, base_score=0.75, score=(train=-7.129, test=-17907.919), total=   4.5s\n",
      "[CV] n_estimators=1100, min_child_weight=0.5, max_depth=4, learning_rate=0.5, booster=gbtree, base_score=0.75 \n",
      "[CV]  n_estimators=1100, min_child_weight=0.5, max_depth=4, learning_rate=0.5, booster=gbtree, base_score=0.75, score=(train=-7.147, test=-20488.838), total=   4.4s\n",
      "[CV] n_estimators=1100, min_child_weight=0.5, max_depth=4, learning_rate=0.5, booster=gbtree, base_score=0.75 \n",
      "[CV]  n_estimators=1100, min_child_weight=0.5, max_depth=4, learning_rate=0.5, booster=gbtree, base_score=0.75, score=(train=-0.025, test=-20316.380), total=   4.5s\n",
      "[CV] n_estimators=1100, min_child_weight=0.5, max_depth=4, learning_rate=0.5, booster=gbtree, base_score=0.75 \n",
      "[CV]  n_estimators=1100, min_child_weight=0.5, max_depth=4, learning_rate=0.5, booster=gbtree, base_score=0.75, score=(train=-7.144, test=-17471.933), total=   4.5s\n",
      "[CV] n_estimators=1100, min_child_weight=0.5, max_depth=4, learning_rate=0.5, booster=gbtree, base_score=0.75 \n",
      "[CV]  n_estimators=1100, min_child_weight=0.5, max_depth=4, learning_rate=0.5, booster=gbtree, base_score=0.75, score=(train=-0.027, test=-19768.192), total=   4.4s\n",
      "[CV] n_estimators=900, min_child_weight=0.5, max_depth=2, learning_rate=0.15, booster=gblinear, base_score=0.5 \n",
      "[17:05:24] WARNING: C:/Users/Administrator/workspace/xgboost-win64_release_1.3.0/src/learner.cc:541: \n",
      "Parameters: { max_depth, min_child_weight } might not be used.\n",
      "\n",
      "  This may not be accurate due to some parameters are only used in language bindings but\n",
      "  passed down to XGBoost core.  Or some parameters are not used but slip through this\n",
      "  verification. Please open an issue if you find above cases.\n",
      "\n",
      "\n",
      "[CV]  n_estimators=900, min_child_weight=0.5, max_depth=2, learning_rate=0.15, booster=gblinear, base_score=0.5, score=(train=-17410.943, test=-18159.370), total=   1.5s\n",
      "[CV] n_estimators=900, min_child_weight=0.5, max_depth=2, learning_rate=0.15, booster=gblinear, base_score=0.5 \n",
      "[17:05:26] WARNING: C:/Users/Administrator/workspace/xgboost-win64_release_1.3.0/src/learner.cc:541: \n",
      "Parameters: { max_depth, min_child_weight } might not be used.\n",
      "\n",
      "  This may not be accurate due to some parameters are only used in language bindings but\n",
      "  passed down to XGBoost core.  Or some parameters are not used but slip through this\n",
      "  verification. Please open an issue if you find above cases.\n",
      "\n",
      "\n",
      "[CV]  n_estimators=900, min_child_weight=0.5, max_depth=2, learning_rate=0.15, booster=gblinear, base_score=0.5, score=(train=-16275.296, test=-21574.701), total=   1.5s\n",
      "[CV] n_estimators=900, min_child_weight=0.5, max_depth=2, learning_rate=0.15, booster=gblinear, base_score=0.5 \n",
      "[17:05:28] WARNING: C:/Users/Administrator/workspace/xgboost-win64_release_1.3.0/src/learner.cc:541: \n",
      "Parameters: { max_depth, min_child_weight } might not be used.\n",
      "\n",
      "  This may not be accurate due to some parameters are only used in language bindings but\n",
      "  passed down to XGBoost core.  Or some parameters are not used but slip through this\n",
      "  verification. Please open an issue if you find above cases.\n",
      "\n",
      "\n",
      "[CV]  n_estimators=900, min_child_weight=0.5, max_depth=2, learning_rate=0.15, booster=gblinear, base_score=0.5, score=(train=-16420.807, test=-21405.800), total=   1.5s\n",
      "[CV] n_estimators=900, min_child_weight=0.5, max_depth=2, learning_rate=0.15, booster=gblinear, base_score=0.5 \n",
      "[17:05:29] WARNING: C:/Users/Administrator/workspace/xgboost-win64_release_1.3.0/src/learner.cc:541: \n",
      "Parameters: { max_depth, min_child_weight } might not be used.\n",
      "\n",
      "  This may not be accurate due to some parameters are only used in language bindings but\n",
      "  passed down to XGBoost core.  Or some parameters are not used but slip through this\n",
      "  verification. Please open an issue if you find above cases.\n",
      "\n",
      "\n",
      "[CV]  n_estimators=900, min_child_weight=0.5, max_depth=2, learning_rate=0.15, booster=gblinear, base_score=0.5, score=(train=-17033.586, test=-19439.808), total=   1.5s\n",
      "[CV] n_estimators=900, min_child_weight=0.5, max_depth=2, learning_rate=0.15, booster=gblinear, base_score=0.5 \n",
      "[17:05:31] WARNING: C:/Users/Administrator/workspace/xgboost-win64_release_1.3.0/src/learner.cc:541: \n",
      "Parameters: { max_depth, min_child_weight } might not be used.\n",
      "\n",
      "  This may not be accurate due to some parameters are only used in language bindings but\n",
      "  passed down to XGBoost core.  Or some parameters are not used but slip through this\n",
      "  verification. Please open an issue if you find above cases.\n",
      "\n",
      "\n",
      "[CV]  n_estimators=900, min_child_weight=0.5, max_depth=2, learning_rate=0.15, booster=gblinear, base_score=0.5, score=(train=-15042.287, test=-20951.749), total=   1.5s\n",
      "[CV] n_estimators=1500, min_child_weight=3, max_depth=5, learning_rate=0.2, booster=gbtree, base_score=0.75 \n",
      "[CV]  n_estimators=1500, min_child_weight=3, max_depth=5, learning_rate=0.2, booster=gbtree, base_score=0.75, score=(train=-7.196, test=-16068.916), total=   7.0s\n",
      "[CV] n_estimators=1500, min_child_weight=3, max_depth=5, learning_rate=0.2, booster=gbtree, base_score=0.75 \n",
      "[CV]  n_estimators=1500, min_child_weight=3, max_depth=5, learning_rate=0.2, booster=gbtree, base_score=0.75, score=(train=-7.265, test=-16937.851), total=   6.9s\n",
      "[CV] n_estimators=1500, min_child_weight=3, max_depth=5, learning_rate=0.2, booster=gbtree, base_score=0.75 \n",
      "[CV]  n_estimators=1500, min_child_weight=3, max_depth=5, learning_rate=0.2, booster=gbtree, base_score=0.75, score=(train=-0.176, test=-17772.164), total=   7.0s\n",
      "[CV] n_estimators=1500, min_child_weight=3, max_depth=5, learning_rate=0.2, booster=gbtree, base_score=0.75 \n",
      "[CV]  n_estimators=1500, min_child_weight=3, max_depth=5, learning_rate=0.2, booster=gbtree, base_score=0.75, score=(train=-7.221, test=-13763.830), total=   7.2s\n",
      "[CV] n_estimators=1500, min_child_weight=3, max_depth=5, learning_rate=0.2, booster=gbtree, base_score=0.75 \n",
      "[CV]  n_estimators=1500, min_child_weight=3, max_depth=5, learning_rate=0.2, booster=gbtree, base_score=0.75, score=(train=-0.167, test=-17210.670), total=   7.0s\n",
      "[CV] n_estimators=500, min_child_weight=3, max_depth=3, learning_rate=0.15, booster=gblinear, base_score=0.25 \n",
      "[17:06:08] WARNING: C:/Users/Administrator/workspace/xgboost-win64_release_1.3.0/src/learner.cc:541: \n",
      "Parameters: { max_depth, min_child_weight } might not be used.\n",
      "\n",
      "  This may not be accurate due to some parameters are only used in language bindings but\n",
      "  passed down to XGBoost core.  Or some parameters are not used but slip through this\n",
      "  verification. Please open an issue if you find above cases.\n",
      "\n",
      "\n",
      "[CV]  n_estimators=500, min_child_weight=3, max_depth=3, learning_rate=0.15, booster=gblinear, base_score=0.25, score=(train=-17481.365, test=-17992.208), total=   0.9s\n",
      "[CV] n_estimators=500, min_child_weight=3, max_depth=3, learning_rate=0.15, booster=gblinear, base_score=0.25 \n",
      "[17:06:08] WARNING: C:/Users/Administrator/workspace/xgboost-win64_release_1.3.0/src/learner.cc:541: \n",
      "Parameters: { max_depth, min_child_weight } might not be used.\n",
      "\n",
      "  This may not be accurate due to some parameters are only used in language bindings but\n",
      "  passed down to XGBoost core.  Or some parameters are not used but slip through this\n",
      "  verification. Please open an issue if you find above cases.\n",
      "\n",
      "\n",
      "[CV]  n_estimators=500, min_child_weight=3, max_depth=3, learning_rate=0.15, booster=gblinear, base_score=0.25, score=(train=-16348.455, test=-21673.225), total=   0.9s\n",
      "[CV] n_estimators=500, min_child_weight=3, max_depth=3, learning_rate=0.15, booster=gblinear, base_score=0.25 \n",
      "[17:06:09] WARNING: C:/Users/Administrator/workspace/xgboost-win64_release_1.3.0/src/learner.cc:541: \n",
      "Parameters: { max_depth, min_child_weight } might not be used.\n",
      "\n",
      "  This may not be accurate due to some parameters are only used in language bindings but\n",
      "  passed down to XGBoost core.  Or some parameters are not used but slip through this\n",
      "  verification. Please open an issue if you find above cases.\n",
      "\n",
      "\n",
      "[CV]  n_estimators=500, min_child_weight=3, max_depth=3, learning_rate=0.15, booster=gblinear, base_score=0.25, score=(train=-16532.681, test=-21519.970), total=   0.9s\n",
      "[CV] n_estimators=500, min_child_weight=3, max_depth=3, learning_rate=0.15, booster=gblinear, base_score=0.25 \n",
      "[17:06:10] WARNING: C:/Users/Administrator/workspace/xgboost-win64_release_1.3.0/src/learner.cc:541: \n",
      "Parameters: { max_depth, min_child_weight } might not be used.\n",
      "\n",
      "  This may not be accurate due to some parameters are only used in language bindings but\n",
      "  passed down to XGBoost core.  Or some parameters are not used but slip through this\n",
      "  verification. Please open an issue if you find above cases.\n",
      "\n",
      "\n",
      "[CV]  n_estimators=500, min_child_weight=3, max_depth=3, learning_rate=0.15, booster=gblinear, base_score=0.25, score=(train=-17159.814, test=-19165.335), total=   0.9s\n",
      "[CV] n_estimators=500, min_child_weight=3, max_depth=3, learning_rate=0.15, booster=gblinear, base_score=0.25 \n",
      "[17:06:11] WARNING: C:/Users/Administrator/workspace/xgboost-win64_release_1.3.0/src/learner.cc:541: \n",
      "Parameters: { max_depth, min_child_weight } might not be used.\n",
      "\n",
      "  This may not be accurate due to some parameters are only used in language bindings but\n",
      "  passed down to XGBoost core.  Or some parameters are not used but slip through this\n",
      "  verification. Please open an issue if you find above cases.\n",
      "\n",
      "\n",
      "[CV]  n_estimators=500, min_child_weight=3, max_depth=3, learning_rate=0.15, booster=gblinear, base_score=0.25, score=(train=-15105.840, test=-20781.461), total=   0.9s\n",
      "[CV] n_estimators=1100, min_child_weight=3, max_depth=5, learning_rate=0.15, booster=gbtree, base_score=1 \n",
      "[CV]  n_estimators=1100, min_child_weight=3, max_depth=5, learning_rate=0.15, booster=gbtree, base_score=1, score=(train=-17.738, test=-15482.840), total=   5.3s\n",
      "[CV] n_estimators=1100, min_child_weight=3, max_depth=5, learning_rate=0.15, booster=gbtree, base_score=1 \n",
      "[CV]  n_estimators=1100, min_child_weight=3, max_depth=5, learning_rate=0.15, booster=gbtree, base_score=1, score=(train=-24.490, test=-16444.549), total=   5.3s\n",
      "[CV] n_estimators=1100, min_child_weight=3, max_depth=5, learning_rate=0.15, booster=gbtree, base_score=1 \n",
      "[CV]  n_estimators=1100, min_child_weight=3, max_depth=5, learning_rate=0.15, booster=gbtree, base_score=1, score=(train=-15.139, test=-16909.817), total=   5.2s\n",
      "[CV] n_estimators=1100, min_child_weight=3, max_depth=5, learning_rate=0.15, booster=gbtree, base_score=1 \n",
      "[CV]  n_estimators=1100, min_child_weight=3, max_depth=5, learning_rate=0.15, booster=gbtree, base_score=1, score=(train=-19.792, test=-13802.754), total=   5.1s\n",
      "[CV] n_estimators=1100, min_child_weight=3, max_depth=5, learning_rate=0.15, booster=gbtree, base_score=1 \n",
      "[CV]  n_estimators=1100, min_child_weight=3, max_depth=5, learning_rate=0.15, booster=gbtree, base_score=1, score=(train=-12.813, test=-17170.648), total=   5.1s\n",
      "[CV] n_estimators=1500, min_child_weight=2, max_depth=12, learning_rate=0.5, booster=gbtree, base_score=0.5 \n",
      "[CV]  n_estimators=1500, min_child_weight=2, max_depth=12, learning_rate=0.5, booster=gbtree, base_score=0.5, score=(train=-7.109, test=-18489.048), total=  13.7s\n",
      "[CV] n_estimators=1500, min_child_weight=2, max_depth=12, learning_rate=0.5, booster=gbtree, base_score=0.5 \n",
      "[CV]  n_estimators=1500, min_child_weight=2, max_depth=12, learning_rate=0.5, booster=gbtree, base_score=0.5, score=(train=-7.109, test=-21003.619), total=  13.6s\n",
      "[CV] n_estimators=1500, min_child_weight=2, max_depth=12, learning_rate=0.5, booster=gbtree, base_score=0.5 \n",
      "[CV]  n_estimators=1500, min_child_weight=2, max_depth=12, learning_rate=0.5, booster=gbtree, base_score=0.5, score=(train=-0.003, test=-21108.289), total=  13.5s\n",
      "[CV] n_estimators=1500, min_child_weight=2, max_depth=12, learning_rate=0.5, booster=gbtree, base_score=0.5 \n",
      "[CV]  n_estimators=1500, min_child_weight=2, max_depth=12, learning_rate=0.5, booster=gbtree, base_score=0.5, score=(train=-7.110, test=-17283.846), total=  13.0s\n",
      "[CV] n_estimators=1500, min_child_weight=2, max_depth=12, learning_rate=0.5, booster=gbtree, base_score=0.5 \n",
      "[CV]  n_estimators=1500, min_child_weight=2, max_depth=12, learning_rate=0.5, booster=gbtree, base_score=0.5, score=(train=-0.003, test=-21853.626), total=  13.2s\n",
      "[Parallel(n_jobs=1)]: Done 250 out of 250 | elapsed: 13.2min finished\n"
     ]
    },
    {
     "output_type": "execute_result",
     "data": {
      "text/plain": [
       "RandomizedSearchCV(cv=5, error_score='raise-deprecating',\n",
       "                   estimator=XGBRegressor(base_score=None, booster=None,\n",
       "                                          colsample_bylevel=None,\n",
       "                                          colsample_bynode=None,\n",
       "                                          colsample_bytree=None, gamma=None,\n",
       "                                          gpu_id=None, importance_type='gain',\n",
       "                                          interaction_constraints=None,\n",
       "                                          learning_rate=None,\n",
       "                                          max_delta_step=None, max_depth=None,\n",
       "                                          min_child_weight=None, missing=nan,\n",
       "                                          monotone_con...\n",
       "                   iid='warn', n_iter=50, n_jobs=1,\n",
       "                   param_distributions={'base_score': [0.25, 0.5, 0.75, 1],\n",
       "                                        'booster': ['gbtree', 'gblinear'],\n",
       "                                        'learning_rate': [0.05, 0.5, 0.15, 0.2],\n",
       "                                        'max_depth': [2, 3, 4, 5, 9, 12],\n",
       "                                        'min_child_weight': [0.25, 0.5, 1, 2,\n",
       "                                                             3],\n",
       "                                        'n_estimators': [100, 500, 900, 1100,\n",
       "                                                         1500]},\n",
       "                   pre_dispatch='2*n_jobs', random_state=22, refit=True,\n",
       "                   return_train_score=True, scoring='neg_mean_absolute_error',\n",
       "                   verbose=5)"
      ]
     },
     "metadata": {},
     "execution_count": 143
    }
   ],
   "source": [
    "#random_cv.fit(X_train, y_train)"
   ]
  },
  {
   "cell_type": "code",
   "execution_count": 144,
   "metadata": {},
   "outputs": [
    {
     "output_type": "execute_result",
     "data": {
      "text/plain": [
       "XGBRegressor(base_score=1, booster='gbtree', colsample_bylevel=1,\n",
       "             colsample_bynode=1, colsample_bytree=1, gamma=0, gpu_id=-1,\n",
       "             importance_type='gain', interaction_constraints='',\n",
       "             learning_rate=0.05, max_delta_step=0, max_depth=3,\n",
       "             min_child_weight=2, missing=nan, monotone_constraints='()',\n",
       "             n_estimators=1500, n_jobs=8, num_parallel_tree=1,\n",
       "             objective='reg:squarederror', random_state=0, reg_alpha=0,\n",
       "             reg_lambda=1, scale_pos_weight=1, subsample=1, tree_method='exact',\n",
       "             validate_parameters=1, verbosity=None)"
      ]
     },
     "metadata": {},
     "execution_count": 144
    }
   ],
   "source": [
    " random_cv.best_estimator_"
   ]
  },
  {
   "cell_type": "code",
   "execution_count": 148,
   "metadata": {},
   "outputs": [],
   "source": [
    "regressor = xgboost.XGBRegressor(base_score=1, booster='gbtree', colsample_bylevel=1,\n",
    "             colsample_bynode=1, colsample_bytree=1, gamma=0, gpu_id=-1,\n",
    "             importance_type='gain', interaction_constraints='',\n",
    "             learning_rate=0.05, max_delta_step=0, max_depth=3,\n",
    "             min_child_weight=2, missing=None, monotone_constraints='()',\n",
    "             n_estimators=1500, n_jobs=8, num_parallel_tree=1,\n",
    "             objective='reg:squarederror', random_state=0, reg_alpha=0,\n",
    "             reg_lambda=1, scale_pos_weight=1, subsample=1, tree_method='exact',\n",
    "             validate_parameters=1, verbosity=None)"
   ]
  },
  {
   "cell_type": "code",
   "execution_count": 149,
   "metadata": {},
   "outputs": [
    {
     "output_type": "execute_result",
     "data": {
      "text/plain": [
       "XGBRegressor(base_score=1, booster='gbtree', colsample_bylevel=1,\n",
       "             colsample_bynode=1, colsample_bytree=1, gamma=0, gpu_id=-1,\n",
       "             importance_type='gain', interaction_constraints='',\n",
       "             learning_rate=0.05, max_delta_step=0, max_depth=3,\n",
       "             min_child_weight=2, missing=None, monotone_constraints='()',\n",
       "             n_estimators=1500, n_jobs=8, num_parallel_tree=1,\n",
       "             objective='reg:squarederror', random_state=0, reg_alpha=0,\n",
       "             reg_lambda=1, scale_pos_weight=1, subsample=1, tree_method='exact',\n",
       "             validate_parameters=1, verbosity=None)"
      ]
     },
     "metadata": {},
     "execution_count": 149
    }
   ],
   "source": [
    "regressor.fit(X_train, y_train)"
   ]
  },
  {
   "cell_type": "code",
   "execution_count": 151,
   "metadata": {},
   "outputs": [],
   "source": [
    "import pickle\n",
    "filename = 'finalized_model1.pkl'\n",
    "pickle.dump(regressor, open(filename, 'wb'))"
   ]
  },
  {
   "cell_type": "code",
   "execution_count": 152,
   "metadata": {},
   "outputs": [],
   "source": [
    "y_pred = regressor.predict(df_Test)"
   ]
  },
  {
   "cell_type": "code",
   "execution_count": 154,
   "metadata": {},
   "outputs": [
    {
     "output_type": "execute_result",
     "data": {
      "text/plain": [
       "array([127312.26 , 160379.19 , 188788.36 , ..., 162647.44 , 114505.734,\n",
       "       228344.1  ], dtype=float32)"
      ]
     },
     "metadata": {},
     "execution_count": 154
    }
   ],
   "source": [
    "y_pred"
   ]
  },
  {
   "cell_type": "code",
   "execution_count": 158,
   "metadata": {},
   "outputs": [],
   "source": [
    "y_pred = pd.DataFrame(y_pred)\n",
    "sub_df=pd.read_csv('sample_submission.csv')\n",
    "#pd.concat() axis=1 concats columns together\n",
    "datasets=pd.concat([sub_df['Id'],pred],axis=1)\n",
    "datasets.columns=['Id','SalePrice']\n",
    "datasets.to_csv('submission02.csv',index=False)"
   ]
  },
  {
   "cell_type": "code",
   "execution_count": null,
   "metadata": {},
   "outputs": [],
   "source": []
  }
 ]
}